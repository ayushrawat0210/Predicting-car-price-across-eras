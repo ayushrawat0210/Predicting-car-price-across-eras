{
 "cells": [
  {
   "cell_type": "markdown",
   "id": "ccabf51f-5b74-43f6-a36b-c149fd4f4ccf",
   "metadata": {},
   "source": [
    "<div style=\"text-align: center;\">\r\n",
    "    <h1 style=\"text-decoration: underline;\">AutoValue: Predicting Car Prices Across Eras</h1>\r\n",
    "</div>"
   ]
  },
  {
   "cell_type": "markdown",
   "id": "1af95a5f-2ba5-4a63-aef4-a8530d0893eb",
   "metadata": {},
   "source": [
    "### Project Overview: Car Price Prediction\n",
    "This dataset contains 25,000 rows of car data categorized into Vintage, Modern, and Luxury vehicles. \n",
    "\n",
    "Dataset Features:\n",
    "1) Car_ID → Unique identifier for each car\n",
    "2) Car_Name → Name of the car model\n",
    "3) Brand → Manufacturer of the car\n",
    "4) Year → Manufacturing year\n",
    "5) Category → Type of car (Vintage, Modern, Luxury)\n",
    "6) Price → Estimated market price in USD\n",
    "7) Mileage → Fuel efficiency (MPG or equivalent)\n",
    "8) Engine_Size → Engine capacity in liters (0 for electric cars)\n",
    "9) Fuel_Type → Type of fuel used (Petrol, Diesel, Electric, Hybrid)\n",
    "10) Transmission → Type of transmission (Manual, Automatic, etc.)"
   ]
  },
  {
   "cell_type": "markdown",
   "id": "8ae1c11e-504d-4547-bda2-6668172ac936",
   "metadata": {},
   "source": [
    "### Challenges in this Dataset:\n",
    "1) Missing Values → Some records have missing price, mileage, or fuel type\n",
    "2) Inconsistent Categories → Variations in case (e.g., \"vintage\" vs. \"VINTAGE\")\n",
    "3) Outliers → Unrealistic prices and mileage values added randomly\n",
    "4) Duplicate Entries → 1% of the dataset has duplicate rows\n",
    "5) Typos in Categorical Data → Fuel type and category may have spelling variations"
   ]
  },
  {
   "cell_type": "markdown",
   "id": "9345c5e4-17e1-41b1-9d81-dec62e83e0ab",
   "metadata": {},
   "source": [
    "### Import libraries"
   ]
  },
  {
   "cell_type": "code",
   "execution_count": 1,
   "id": "d435f85b-e376-4bd9-a21b-03d913f55101",
   "metadata": {},
   "outputs": [],
   "source": [
    "import pandas as pd\n",
    "import numpy as np\n",
    "import matplotlib.pyplot as plt\n",
    "import seaborn as sns\n",
    "import plotly.express as px\n",
    "%matplotlib inline"
   ]
  },
  {
   "cell_type": "markdown",
   "id": "7addf67f-cf35-47c5-8a26-d5346c502d45",
   "metadata": {},
   "source": [
    "### Import dataset"
   ]
  },
  {
   "cell_type": "code",
   "execution_count": 2,
   "id": "c875b1e9-f41a-4d50-aaf3-63a7655e1cac",
   "metadata": {},
   "outputs": [
    {
     "data": {
      "text/html": [
       "<div>\n",
       "<style scoped>\n",
       "    .dataframe tbody tr th:only-of-type {\n",
       "        vertical-align: middle;\n",
       "    }\n",
       "\n",
       "    .dataframe tbody tr th {\n",
       "        vertical-align: top;\n",
       "    }\n",
       "\n",
       "    .dataframe thead th {\n",
       "        text-align: right;\n",
       "    }\n",
       "</style>\n",
       "<table border=\"1\" class=\"dataframe\">\n",
       "  <thead>\n",
       "    <tr style=\"text-align: right;\">\n",
       "      <th></th>\n",
       "      <th>Car_ID</th>\n",
       "      <th>Car_Name</th>\n",
       "      <th>Brand</th>\n",
       "      <th>Year</th>\n",
       "      <th>Category</th>\n",
       "      <th>Price</th>\n",
       "      <th>Mileage</th>\n",
       "      <th>Engine_Size</th>\n",
       "      <th>Fuel_Type</th>\n",
       "      <th>Transmission</th>\n",
       "    </tr>\n",
       "  </thead>\n",
       "  <tbody>\n",
       "    <tr>\n",
       "      <th>0</th>\n",
       "      <td>1</td>\n",
       "      <td>BMW 3 Series</td>\n",
       "      <td>BMW</td>\n",
       "      <td>1986</td>\n",
       "      <td>Modern</td>\n",
       "      <td>1853.6</td>\n",
       "      <td>3.583</td>\n",
       "      <td>4.8</td>\n",
       "      <td>Hybrid</td>\n",
       "      <td>CVT</td>\n",
       "    </tr>\n",
       "    <tr>\n",
       "      <th>1</th>\n",
       "      <td>2</td>\n",
       "      <td>Jaguar E-Type</td>\n",
       "      <td>Jaguar</td>\n",
       "      <td>1979</td>\n",
       "      <td>Vintage</td>\n",
       "      <td>198454.0</td>\n",
       "      <td>33.680</td>\n",
       "      <td>5.5</td>\n",
       "      <td>Electric</td>\n",
       "      <td>Semi-Automatic</td>\n",
       "    </tr>\n",
       "    <tr>\n",
       "      <th>2</th>\n",
       "      <td>3</td>\n",
       "      <td>Mercedes-Benz S-Class</td>\n",
       "      <td>Mercedes-Benz</td>\n",
       "      <td>2010</td>\n",
       "      <td>Luxury</td>\n",
       "      <td>291714.0</td>\n",
       "      <td>41.530</td>\n",
       "      <td>4.8</td>\n",
       "      <td>Electric</td>\n",
       "      <td>Semi-Automatic</td>\n",
       "    </tr>\n",
       "    <tr>\n",
       "      <th>3</th>\n",
       "      <td>4</td>\n",
       "      <td>Ford Model T</td>\n",
       "      <td>Ford</td>\n",
       "      <td>1969</td>\n",
       "      <td>Vintage</td>\n",
       "      <td>185609.0</td>\n",
       "      <td>19.220</td>\n",
       "      <td>4.1</td>\n",
       "      <td>Electric</td>\n",
       "      <td>Manual</td>\n",
       "    </tr>\n",
       "    <tr>\n",
       "      <th>4</th>\n",
       "      <td>5</td>\n",
       "      <td>Mercedes-Benz S-Class</td>\n",
       "      <td>Mercedes-Benz</td>\n",
       "      <td>2013</td>\n",
       "      <td>Luxury</td>\n",
       "      <td>330250.0</td>\n",
       "      <td>16.370</td>\n",
       "      <td>3.8</td>\n",
       "      <td>Diesel</td>\n",
       "      <td>CVT</td>\n",
       "    </tr>\n",
       "  </tbody>\n",
       "</table>\n",
       "</div>"
      ],
      "text/plain": [
       "   Car_ID               Car_Name          Brand  Year Category     Price  \\\n",
       "0       1           BMW 3 Series            BMW  1986   Modern    1853.6   \n",
       "1       2          Jaguar E-Type         Jaguar  1979  Vintage  198454.0   \n",
       "2       3  Mercedes-Benz S-Class  Mercedes-Benz  2010   Luxury  291714.0   \n",
       "3       4           Ford Model T           Ford  1969  Vintage  185609.0   \n",
       "4       5  Mercedes-Benz S-Class  Mercedes-Benz  2013   Luxury  330250.0   \n",
       "\n",
       "   Mileage  Engine_Size Fuel_Type    Transmission  \n",
       "0    3.583          4.8    Hybrid             CVT  \n",
       "1   33.680          5.5  Electric  Semi-Automatic  \n",
       "2   41.530          4.8  Electric  Semi-Automatic  \n",
       "3   19.220          4.1  Electric          Manual  \n",
       "4   16.370          3.8    Diesel             CVT  "
      ]
     },
     "execution_count": 2,
     "metadata": {},
     "output_type": "execute_result"
    }
   ],
   "source": [
    "df = pd.read_excel(\"Car dataset.xlsx\")\n",
    "df.head()"
   ]
  },
  {
   "cell_type": "code",
   "execution_count": 3,
   "id": "332eddaf-0203-4002-963d-5ae756b93fbf",
   "metadata": {},
   "outputs": [
    {
     "data": {
      "text/html": [
       "<div>\n",
       "<style scoped>\n",
       "    .dataframe tbody tr th:only-of-type {\n",
       "        vertical-align: middle;\n",
       "    }\n",
       "\n",
       "    .dataframe tbody tr th {\n",
       "        vertical-align: top;\n",
       "    }\n",
       "\n",
       "    .dataframe thead th {\n",
       "        text-align: right;\n",
       "    }\n",
       "</style>\n",
       "<table border=\"1\" class=\"dataframe\">\n",
       "  <thead>\n",
       "    <tr style=\"text-align: right;\">\n",
       "      <th></th>\n",
       "      <th>Car_ID</th>\n",
       "      <th>Car_Name</th>\n",
       "      <th>Brand</th>\n",
       "      <th>Year</th>\n",
       "      <th>Category</th>\n",
       "      <th>Price</th>\n",
       "      <th>Mileage</th>\n",
       "      <th>Engine_Size</th>\n",
       "      <th>Fuel_Type</th>\n",
       "      <th>Transmission</th>\n",
       "    </tr>\n",
       "  </thead>\n",
       "  <tbody>\n",
       "    <tr>\n",
       "      <th>25245</th>\n",
       "      <td>18162</td>\n",
       "      <td>Honda Civic</td>\n",
       "      <td>Honda</td>\n",
       "      <td>2002</td>\n",
       "      <td>Modern</td>\n",
       "      <td>16821.0</td>\n",
       "      <td>22.29</td>\n",
       "      <td>2.1</td>\n",
       "      <td>Hybrid</td>\n",
       "      <td>Automatic</td>\n",
       "    </tr>\n",
       "    <tr>\n",
       "      <th>25246</th>\n",
       "      <td>1458</td>\n",
       "      <td>Rolls-Royce Silver Cloud</td>\n",
       "      <td>Rolls-Royce</td>\n",
       "      <td>1952</td>\n",
       "      <td>Vintage</td>\n",
       "      <td>134826.0</td>\n",
       "      <td>10.36</td>\n",
       "      <td>3.5</td>\n",
       "      <td>Diesel</td>\n",
       "      <td>Automatic</td>\n",
       "    </tr>\n",
       "    <tr>\n",
       "      <th>25247</th>\n",
       "      <td>4557</td>\n",
       "      <td>Toyota Corolla</td>\n",
       "      <td>Toyota</td>\n",
       "      <td>1993</td>\n",
       "      <td>Modern</td>\n",
       "      <td>16464.0</td>\n",
       "      <td>6.12</td>\n",
       "      <td>3.7</td>\n",
       "      <td>Petrol</td>\n",
       "      <td>Automatic</td>\n",
       "    </tr>\n",
       "    <tr>\n",
       "      <th>25248</th>\n",
       "      <td>7517</td>\n",
       "      <td>Lexus LS</td>\n",
       "      <td>Lexus</td>\n",
       "      <td>1990</td>\n",
       "      <td>LUXURY</td>\n",
       "      <td>302756.0</td>\n",
       "      <td>41.25</td>\n",
       "      <td>3.4</td>\n",
       "      <td>ELECTRIC</td>\n",
       "      <td>CVT</td>\n",
       "    </tr>\n",
       "    <tr>\n",
       "      <th>25249</th>\n",
       "      <td>20976</td>\n",
       "      <td>Tesla Model 3</td>\n",
       "      <td>Tesla</td>\n",
       "      <td>1990</td>\n",
       "      <td>Modern</td>\n",
       "      <td>118076.0</td>\n",
       "      <td>5.47</td>\n",
       "      <td>2.2</td>\n",
       "      <td>Electric</td>\n",
       "      <td>CVT</td>\n",
       "    </tr>\n",
       "  </tbody>\n",
       "</table>\n",
       "</div>"
      ],
      "text/plain": [
       "       Car_ID                  Car_Name        Brand  Year Category     Price  \\\n",
       "25245   18162               Honda Civic        Honda  2002   Modern   16821.0   \n",
       "25246    1458  Rolls-Royce Silver Cloud  Rolls-Royce  1952  Vintage  134826.0   \n",
       "25247    4557            Toyota Corolla       Toyota  1993   Modern   16464.0   \n",
       "25248    7517                  Lexus LS        Lexus  1990   LUXURY  302756.0   \n",
       "25249   20976             Tesla Model 3        Tesla  1990   Modern  118076.0   \n",
       "\n",
       "       Mileage  Engine_Size Fuel_Type Transmission  \n",
       "25245    22.29          2.1    Hybrid    Automatic  \n",
       "25246    10.36          3.5    Diesel    Automatic  \n",
       "25247     6.12          3.7    Petrol    Automatic  \n",
       "25248    41.25          3.4  ELECTRIC          CVT  \n",
       "25249     5.47          2.2  Electric          CVT  "
      ]
     },
     "execution_count": 3,
     "metadata": {},
     "output_type": "execute_result"
    }
   ],
   "source": [
    "df.tail()"
   ]
  },
  {
   "cell_type": "markdown",
   "id": "639d3715-80b8-4d43-91c0-081520dd70d3",
   "metadata": {},
   "source": [
    "### Shape of the data"
   ]
  },
  {
   "cell_type": "code",
   "execution_count": 4,
   "id": "9767a9bc-b895-4f1b-94a9-4ffd908d1138",
   "metadata": {},
   "outputs": [
    {
     "data": {
      "text/plain": [
       "(25250, 10)"
      ]
     },
     "execution_count": 4,
     "metadata": {},
     "output_type": "execute_result"
    }
   ],
   "source": [
    "df.shape"
   ]
  },
  {
   "cell_type": "markdown",
   "id": "fed12e7d-3b08-481a-ad0a-254822310084",
   "metadata": {},
   "source": [
    "### Data info"
   ]
  },
  {
   "cell_type": "code",
   "execution_count": 5,
   "id": "c9deca01-6e4f-4db9-8df4-6c9fe45ae0ff",
   "metadata": {},
   "outputs": [
    {
     "name": "stdout",
     "output_type": "stream",
     "text": [
      "<class 'pandas.core.frame.DataFrame'>\n",
      "RangeIndex: 25250 entries, 0 to 25249\n",
      "Data columns (total 10 columns):\n",
      " #   Column        Non-Null Count  Dtype  \n",
      "---  ------        --------------  -----  \n",
      " 0   Car_ID        25250 non-null  int64  \n",
      " 1   Car_Name      25250 non-null  object \n",
      " 2   Brand         25250 non-null  object \n",
      " 3   Year          25250 non-null  int64  \n",
      " 4   Category      25250 non-null  object \n",
      " 5   Price         24629 non-null  float64\n",
      " 6   Mileage       24629 non-null  float64\n",
      " 7   Engine_Size   25250 non-null  float64\n",
      " 8   Fuel_Type     24640 non-null  object \n",
      " 9   Transmission  25250 non-null  object \n",
      "dtypes: float64(3), int64(2), object(5)\n",
      "memory usage: 1.9+ MB\n"
     ]
    }
   ],
   "source": [
    "df.info()"
   ]
  },
  {
   "cell_type": "markdown",
   "id": "d0336fcb-6468-4e0c-acd6-5095f069fe10",
   "metadata": {},
   "source": [
    "### Checking data types"
   ]
  },
  {
   "cell_type": "code",
   "execution_count": 6,
   "id": "cb7b36d2-4d84-4051-ad76-5fe34974f6a2",
   "metadata": {},
   "outputs": [
    {
     "data": {
      "text/plain": [
       "Car_ID            int64\n",
       "Car_Name         object\n",
       "Brand            object\n",
       "Year              int64\n",
       "Category         object\n",
       "Price           float64\n",
       "Mileage         float64\n",
       "Engine_Size     float64\n",
       "Fuel_Type        object\n",
       "Transmission     object\n",
       "dtype: object"
      ]
     },
     "execution_count": 6,
     "metadata": {},
     "output_type": "execute_result"
    }
   ],
   "source": [
    "# checking for data types\n",
    "\n",
    "df.dtypes"
   ]
  },
  {
   "cell_type": "markdown",
   "id": "712f8804-e851-47fd-aa48-92682612586b",
   "metadata": {},
   "source": [
    "### Checking null values"
   ]
  },
  {
   "cell_type": "code",
   "execution_count": 7,
   "id": "0e6c1dce-b2ba-4a99-9d3c-b71933b08e55",
   "metadata": {},
   "outputs": [
    {
     "data": {
      "text/plain": [
       "Car_ID            0\n",
       "Car_Name          0\n",
       "Brand             0\n",
       "Year              0\n",
       "Category          0\n",
       "Price           621\n",
       "Mileage         621\n",
       "Engine_Size       0\n",
       "Fuel_Type       610\n",
       "Transmission      0\n",
       "dtype: int64"
      ]
     },
     "execution_count": 7,
     "metadata": {},
     "output_type": "execute_result"
    }
   ],
   "source": [
    "# checking for null values\n",
    "\n",
    "df.isnull().sum()"
   ]
  },
  {
   "cell_type": "markdown",
   "id": "6a3c9ece-4777-4d67-8471-19ee12c74d25",
   "metadata": {},
   "source": [
    "### Treating Null values and inconsistencies"
   ]
  },
  {
   "cell_type": "markdown",
   "id": "c07b1e9a-bd7f-460c-ad3d-7eac7c9ff97f",
   "metadata": {},
   "source": [
    "#### Category column"
   ]
  },
  {
   "cell_type": "code",
   "execution_count": 8,
   "id": "dad1c273-4f61-4c8b-81e8-33e9defce39f",
   "metadata": {},
   "outputs": [
    {
     "data": {
      "text/plain": [
       "array(['Modern', 'Vintage', 'Luxury', 'VINTAGE', 'LUXURY', 'vintage',\n",
       "       'luxury', 'MODERN', 'modern'], dtype=object)"
      ]
     },
     "execution_count": 8,
     "metadata": {},
     "output_type": "execute_result"
    }
   ],
   "source": [
    "df['Category'].unique()"
   ]
  },
  {
   "cell_type": "markdown",
   "id": "c63f7092-292d-42e1-ba61-469977dba946",
   "metadata": {},
   "source": [
    "#### Convert all Category into title case to standardize them"
   ]
  },
  {
   "cell_type": "code",
   "execution_count": 9,
   "id": "45a1b67c-1ef5-445d-ab6b-7122f48d987f",
   "metadata": {},
   "outputs": [],
   "source": [
    "df['Category']= df['Category'].str.strip().str.title()"
   ]
  },
  {
   "cell_type": "code",
   "execution_count": 10,
   "id": "8339887e-9e30-4ed0-b1e9-4a4d856fd573",
   "metadata": {},
   "outputs": [
    {
     "data": {
      "text/plain": [
       "Category\n",
       "Luxury     8519\n",
       "Vintage    8482\n",
       "Modern     8249\n",
       "Name: count, dtype: int64"
      ]
     },
     "execution_count": 10,
     "metadata": {},
     "output_type": "execute_result"
    }
   ],
   "source": [
    "df['Category'].value_counts()"
   ]
  },
  {
   "cell_type": "markdown",
   "id": "f11268c7-56ab-4491-8530-6784b8528323",
   "metadata": {},
   "source": [
    "#### Mileage column"
   ]
  },
  {
   "cell_type": "code",
   "execution_count": 11,
   "id": "304c0c24-1753-4159-8998-996dfd73baea",
   "metadata": {},
   "outputs": [
    {
     "name": "stdout",
     "output_type": "stream",
     "text": [
      "621\n"
     ]
    }
   ],
   "source": [
    "print(df['Mileage'].isnull().sum())"
   ]
  },
  {
   "cell_type": "code",
   "execution_count": 12,
   "id": "c7550d05-acb1-4a27-9588-d67d71211eaa",
   "metadata": {},
   "outputs": [
    {
     "data": {
      "text/plain": [
       "Mileage\n",
       "41.120     16\n",
       "43.850     16\n",
       "12.150     15\n",
       "28.820     15\n",
       "8.030      15\n",
       "           ..\n",
       "143.500     1\n",
       "1.656       1\n",
       "3.701       1\n",
       "15.660      1\n",
       "98.500      1\n",
       "Name: count, Length: 4962, dtype: int64"
      ]
     },
     "execution_count": 12,
     "metadata": {},
     "output_type": "execute_result"
    }
   ],
   "source": [
    "df['Mileage'].value_counts()"
   ]
  },
  {
   "cell_type": "code",
   "execution_count": 13,
   "id": "42e9a7d7-ba30-41b6-beaa-4f8bbc862f91",
   "metadata": {},
   "outputs": [
    {
     "name": "stdout",
     "output_type": "stream",
     "text": [
      "count    24629.000000\n",
      "mean        29.708047\n",
      "std         31.101287\n",
      "min          0.515000\n",
      "25%         15.810000\n",
      "50%         27.390000\n",
      "75%         38.970000\n",
      "max        498.000000\n",
      "Name: Mileage, dtype: float64\n"
     ]
    }
   ],
   "source": [
    "print(df['Mileage'].describe())"
   ]
  },
  {
   "cell_type": "code",
   "execution_count": 14,
   "id": "97a5f8d6-d70f-4cfa-bf6d-255b27d4464d",
   "metadata": {},
   "outputs": [],
   "source": [
    "# lets remove extreme outliers\n",
    "\n",
    "df = df[(df['Mileage']>5) & (df['Mileage']<100)]"
   ]
  },
  {
   "cell_type": "code",
   "execution_count": 15,
   "id": "6b32d6d2-ffad-468d-a84f-85c61dbacee2",
   "metadata": {},
   "outputs": [],
   "source": [
    "# filling missing values\n",
    "\n",
    "def iqr_median(group):\n",
    "    Q1 = group.quantile(0.25)\n",
    "    Q3 = group.quantile(0.75)\n",
    "    IQR = Q3 - Q1 \n",
    "    filtered_values = group[(group> Q1-1.5*IQR) & (group<Q3+1.5*IQR)]\n",
    "    return filtered_values.median()\n",
    "\n",
    "df['Mileage'] = df.groupby('Category')['Mileage'].transform(lambda x: x.fillna(iqr_median(x)))"
   ]
  },
  {
   "cell_type": "code",
   "execution_count": 16,
   "id": "da845593-c8bc-4ba4-84ae-1d81438e2da5",
   "metadata": {},
   "outputs": [
    {
     "name": "stdout",
     "output_type": "stream",
     "text": [
      "count    24130.000000\n",
      "mean        27.476292\n",
      "std         13.088452\n",
      "min          5.010000\n",
      "25%         16.060000\n",
      "50%         27.430000\n",
      "75%         38.770000\n",
      "max         98.500000\n",
      "Name: Mileage, dtype: float64\n"
     ]
    }
   ],
   "source": [
    "print(df['Mileage'].describe())"
   ]
  },
  {
   "cell_type": "code",
   "execution_count": 17,
   "id": "f6cbfc62-8f82-441a-af0d-cfee650980af",
   "metadata": {},
   "outputs": [
    {
     "name": "stdout",
     "output_type": "stream",
     "text": [
      "0\n"
     ]
    }
   ],
   "source": [
    "print(df['Mileage'].isnull().sum())"
   ]
  },
  {
   "cell_type": "markdown",
   "id": "bbbfc773-388b-4b34-b8d7-20316db8bffa",
   "metadata": {},
   "source": [
    "#### Fuel type column "
   ]
  },
  {
   "cell_type": "code",
   "execution_count": 18,
   "id": "7b05ad5d-fa0a-44f1-8223-e8da8bc0b974",
   "metadata": {},
   "outputs": [
    {
     "name": "stdout",
     "output_type": "stream",
     "text": [
      "299\n"
     ]
    }
   ],
   "source": [
    "print(df['Fuel_Type'].isnull().sum())"
   ]
  },
  {
   "cell_type": "code",
   "execution_count": 19,
   "id": "43b36ae0-d4bc-4471-863e-899a1f7c008a",
   "metadata": {},
   "outputs": [
    {
     "data": {
      "text/plain": [
       "Fuel_Type\n",
       "Electric    7010\n",
       "Hybrid      5462\n",
       "Petrol      5372\n",
       "Diesel      5282\n",
       "ELECTRIC     115\n",
       "PETROL       103\n",
       "electric      89\n",
       "petrol        83\n",
       "HYBRID        83\n",
       "hybrid        80\n",
       "DIESEL        78\n",
       "diesel        74\n",
       "Name: count, dtype: int64"
      ]
     },
     "execution_count": 19,
     "metadata": {},
     "output_type": "execute_result"
    }
   ],
   "source": [
    "df['Fuel_Type'].value_counts()"
   ]
  },
  {
   "cell_type": "markdown",
   "id": "cdb9be9f-88a5-4e94-a4ab-9a5dac95bd9a",
   "metadata": {},
   "source": [
    "#### Convert all fuel type into title case to standardize them"
   ]
  },
  {
   "cell_type": "code",
   "execution_count": 20,
   "id": "cf722371-9c4b-4c5e-99b4-43f034958d4c",
   "metadata": {},
   "outputs": [],
   "source": [
    "df['Fuel_Type'] = df['Fuel_Type'].str.strip().str.title()"
   ]
  },
  {
   "cell_type": "code",
   "execution_count": 21,
   "id": "c7c0521c-14ec-462a-9159-96d49be8a6ef",
   "metadata": {},
   "outputs": [
    {
     "data": {
      "text/plain": [
       "Fuel_Type\n",
       "Electric    7214\n",
       "Hybrid      5625\n",
       "Petrol      5558\n",
       "Diesel      5434\n",
       "Name: count, dtype: int64"
      ]
     },
     "execution_count": 21,
     "metadata": {},
     "output_type": "execute_result"
    }
   ],
   "source": [
    "df['Fuel_Type'].value_counts()"
   ]
  },
  {
   "cell_type": "code",
   "execution_count": 22,
   "id": "d83aaa02-90b0-42d8-addc-29870f79070c",
   "metadata": {},
   "outputs": [
    {
     "name": "stdout",
     "output_type": "stream",
     "text": [
      "299\n"
     ]
    }
   ],
   "source": [
    "print(df['Fuel_Type'].isnull().sum())"
   ]
  },
  {
   "cell_type": "code",
   "execution_count": 23,
   "id": "c6be822c-8207-4582-969a-9b01083a439e",
   "metadata": {},
   "outputs": [
    {
     "data": {
      "text/plain": [
       "0    Electric\n",
       "Name: Fuel_Type, dtype: object"
      ]
     },
     "execution_count": 23,
     "metadata": {},
     "output_type": "execute_result"
    }
   ],
   "source": [
    "df['Fuel_Type'].mode()"
   ]
  },
  {
   "cell_type": "code",
   "execution_count": 24,
   "id": "4a4df2ef-eaec-498c-97fc-99cfce370ae5",
   "metadata": {},
   "outputs": [],
   "source": [
    "# filling nan value with mode\n",
    "\n",
    "df[\"Fuel_Type\"] = df.groupby(\"Category\")[\"Fuel_Type\"].transform(lambda x: x.fillna(x.mode()[0]))\n"
   ]
  },
  {
   "cell_type": "code",
   "execution_count": 25,
   "id": "8dd7de17-fdb9-4dc4-be1e-8c77859948c8",
   "metadata": {},
   "outputs": [
    {
     "name": "stdout",
     "output_type": "stream",
     "text": [
      "0\n"
     ]
    }
   ],
   "source": [
    "print(df['Fuel_Type'].isnull().sum())"
   ]
  },
  {
   "cell_type": "code",
   "execution_count": 26,
   "id": "b0bb72ba-4ac9-45d0-8287-1677c49d4e76",
   "metadata": {},
   "outputs": [
    {
     "data": {
      "text/plain": [
       "Fuel_Type\n",
       "Electric    7411\n",
       "Hybrid      5727\n",
       "Petrol      5558\n",
       "Diesel      5434\n",
       "Name: count, dtype: int64"
      ]
     },
     "execution_count": 26,
     "metadata": {},
     "output_type": "execute_result"
    }
   ],
   "source": [
    "df['Fuel_Type'].value_counts()"
   ]
  },
  {
   "cell_type": "markdown",
   "id": "b78ca7d8-37a1-459d-b281-e4bd690cdad1",
   "metadata": {},
   "source": [
    "#### Price column"
   ]
  },
  {
   "cell_type": "code",
   "execution_count": 27,
   "id": "48882031-d1f9-44cf-b10a-aff21c2ccd47",
   "metadata": {},
   "outputs": [],
   "source": [
    "# we treat price column as target variable so we drop NaN values\n",
    "\n",
    "df = df.dropna(subset=['Price'])"
   ]
  },
  {
   "cell_type": "code",
   "execution_count": 28,
   "id": "2985a656-bfaf-46e7-b6a0-0e53711c3641",
   "metadata": {},
   "outputs": [
    {
     "data": {
      "text/plain": [
       "0"
      ]
     },
     "execution_count": 28,
     "metadata": {},
     "output_type": "execute_result"
    }
   ],
   "source": [
    "df['Price'].isnull().sum()"
   ]
  },
  {
   "cell_type": "code",
   "execution_count": 29,
   "id": "f4313cff-5ccf-45bc-a04d-0b4cea0e5bbf",
   "metadata": {},
   "outputs": [
    {
     "data": {
      "text/html": [
       "<div>\n",
       "<style scoped>\n",
       "    .dataframe tbody tr th:only-of-type {\n",
       "        vertical-align: middle;\n",
       "    }\n",
       "\n",
       "    .dataframe tbody tr th {\n",
       "        vertical-align: top;\n",
       "    }\n",
       "\n",
       "    .dataframe thead th {\n",
       "        text-align: right;\n",
       "    }\n",
       "</style>\n",
       "<table border=\"1\" class=\"dataframe\">\n",
       "  <thead>\n",
       "    <tr style=\"text-align: right;\">\n",
       "      <th></th>\n",
       "      <th>Car_ID</th>\n",
       "      <th>Car_Name</th>\n",
       "      <th>Brand</th>\n",
       "      <th>Year</th>\n",
       "      <th>Category</th>\n",
       "      <th>Price</th>\n",
       "      <th>Mileage</th>\n",
       "      <th>Engine_Size</th>\n",
       "      <th>Fuel_Type</th>\n",
       "      <th>Transmission</th>\n",
       "    </tr>\n",
       "  </thead>\n",
       "  <tbody>\n",
       "    <tr>\n",
       "      <th>1</th>\n",
       "      <td>2</td>\n",
       "      <td>Jaguar E-Type</td>\n",
       "      <td>Jaguar</td>\n",
       "      <td>1979</td>\n",
       "      <td>Vintage</td>\n",
       "      <td>198454.0</td>\n",
       "      <td>33.68</td>\n",
       "      <td>5.5</td>\n",
       "      <td>Electric</td>\n",
       "      <td>Semi-Automatic</td>\n",
       "    </tr>\n",
       "    <tr>\n",
       "      <th>2</th>\n",
       "      <td>3</td>\n",
       "      <td>Mercedes-Benz S-Class</td>\n",
       "      <td>Mercedes-Benz</td>\n",
       "      <td>2010</td>\n",
       "      <td>Luxury</td>\n",
       "      <td>291714.0</td>\n",
       "      <td>41.53</td>\n",
       "      <td>4.8</td>\n",
       "      <td>Electric</td>\n",
       "      <td>Semi-Automatic</td>\n",
       "    </tr>\n",
       "    <tr>\n",
       "      <th>3</th>\n",
       "      <td>4</td>\n",
       "      <td>Ford Model T</td>\n",
       "      <td>Ford</td>\n",
       "      <td>1969</td>\n",
       "      <td>Vintage</td>\n",
       "      <td>185609.0</td>\n",
       "      <td>19.22</td>\n",
       "      <td>4.1</td>\n",
       "      <td>Electric</td>\n",
       "      <td>Manual</td>\n",
       "    </tr>\n",
       "  </tbody>\n",
       "</table>\n",
       "</div>"
      ],
      "text/plain": [
       "   Car_ID               Car_Name          Brand  Year Category     Price  \\\n",
       "1       2          Jaguar E-Type         Jaguar  1979  Vintage  198454.0   \n",
       "2       3  Mercedes-Benz S-Class  Mercedes-Benz  2010   Luxury  291714.0   \n",
       "3       4           Ford Model T           Ford  1969  Vintage  185609.0   \n",
       "\n",
       "   Mileage  Engine_Size Fuel_Type    Transmission  \n",
       "1    33.68          5.5  Electric  Semi-Automatic  \n",
       "2    41.53          4.8  Electric  Semi-Automatic  \n",
       "3    19.22          4.1  Electric          Manual  "
      ]
     },
     "execution_count": 29,
     "metadata": {},
     "output_type": "execute_result"
    }
   ],
   "source": [
    "df.head(3)"
   ]
  },
  {
   "cell_type": "markdown",
   "id": "627437c8-c6ee-4287-a50e-1c77ecee8441",
   "metadata": {},
   "source": [
    "#### Car Name column"
   ]
  },
  {
   "cell_type": "code",
   "execution_count": 30,
   "id": "6c41e820-435e-4703-be4b-2d2acaa4dbc4",
   "metadata": {},
   "outputs": [
    {
     "name": "stdout",
     "output_type": "stream",
     "text": [
      "Car_Name\n",
      "Mercedes-Benz S-Class       1657\n",
      "Jaguar E-Type               1641\n",
      "Bentley Continental GT      1639\n",
      "Rolls-Royce Silver Cloud    1636\n",
      "Audi A8                     1627\n",
      "Volkswagen Beetle           1594\n",
      "Toyota Corolla              1589\n",
      "Ford Model T                1586\n",
      "Porsche Panamera            1579\n",
      "Lexus LS                    1563\n",
      "Chevrolet Bel Air           1556\n",
      "Ford Mustang                1554\n",
      "Honda Civic                 1549\n",
      "Tesla Model 3               1546\n",
      "BMW 3 Series                1525\n",
      "Name: count, dtype: int64\n"
     ]
    }
   ],
   "source": [
    "print(df['Car_Name'].value_counts())"
   ]
  },
  {
   "cell_type": "code",
   "execution_count": 31,
   "id": "3d5cf509-0550-460b-aa81-9de05401afae",
   "metadata": {},
   "outputs": [],
   "source": [
    "df['Car_Name']= df['Car_Name'].str.strip().str.title().str.replace(r\"[^a-zA-Z0-9 ]\", \"\", regex=True)"
   ]
  },
  {
   "cell_type": "code",
   "execution_count": 32,
   "id": "38e253c6-0704-4dfb-8e2a-c32247c38d8f",
   "metadata": {},
   "outputs": [
    {
     "data": {
      "text/plain": [
       "1                    [Jaguar, EType]\n",
       "2             [MercedesBenz, SClass]\n",
       "3                   [Ford, Model, T]\n",
       "4             [MercedesBenz, SClass]\n",
       "5                   [Bmw, 3, Series]\n",
       "                    ...             \n",
       "25245                 [Honda, Civic]\n",
       "25246    [RollsRoyce, Silver, Cloud]\n",
       "25247              [Toyota, Corolla]\n",
       "25248                    [Lexus, Ls]\n",
       "25249              [Tesla, Model, 3]\n",
       "Name: Car_Name, Length: 23841, dtype: object"
      ]
     },
     "execution_count": 32,
     "metadata": {},
     "output_type": "execute_result"
    }
   ],
   "source": [
    "df['Car_Name'].str.split()"
   ]
  },
  {
   "cell_type": "code",
   "execution_count": 33,
   "id": "d65305ed-3954-454a-8b98-00264fd67d67",
   "metadata": {},
   "outputs": [],
   "source": [
    "df['Brand'] = df['Car_Name'].apply(lambda x: x.split()[0])"
   ]
  },
  {
   "cell_type": "code",
   "execution_count": 34,
   "id": "2efd3af4-b3a9-4ccb-a585-dacbdc051f69",
   "metadata": {},
   "outputs": [
    {
     "data": {
      "text/html": [
       "<div>\n",
       "<style scoped>\n",
       "    .dataframe tbody tr th:only-of-type {\n",
       "        vertical-align: middle;\n",
       "    }\n",
       "\n",
       "    .dataframe tbody tr th {\n",
       "        vertical-align: top;\n",
       "    }\n",
       "\n",
       "    .dataframe thead th {\n",
       "        text-align: right;\n",
       "    }\n",
       "</style>\n",
       "<table border=\"1\" class=\"dataframe\">\n",
       "  <thead>\n",
       "    <tr style=\"text-align: right;\">\n",
       "      <th></th>\n",
       "      <th>Car_ID</th>\n",
       "      <th>Car_Name</th>\n",
       "      <th>Brand</th>\n",
       "      <th>Year</th>\n",
       "      <th>Category</th>\n",
       "      <th>Price</th>\n",
       "      <th>Mileage</th>\n",
       "      <th>Engine_Size</th>\n",
       "      <th>Fuel_Type</th>\n",
       "      <th>Transmission</th>\n",
       "    </tr>\n",
       "  </thead>\n",
       "  <tbody>\n",
       "    <tr>\n",
       "      <th>1</th>\n",
       "      <td>2</td>\n",
       "      <td>Jaguar EType</td>\n",
       "      <td>Jaguar</td>\n",
       "      <td>1979</td>\n",
       "      <td>Vintage</td>\n",
       "      <td>198454.0</td>\n",
       "      <td>33.68</td>\n",
       "      <td>5.5</td>\n",
       "      <td>Electric</td>\n",
       "      <td>Semi-Automatic</td>\n",
       "    </tr>\n",
       "    <tr>\n",
       "      <th>2</th>\n",
       "      <td>3</td>\n",
       "      <td>MercedesBenz SClass</td>\n",
       "      <td>MercedesBenz</td>\n",
       "      <td>2010</td>\n",
       "      <td>Luxury</td>\n",
       "      <td>291714.0</td>\n",
       "      <td>41.53</td>\n",
       "      <td>4.8</td>\n",
       "      <td>Electric</td>\n",
       "      <td>Semi-Automatic</td>\n",
       "    </tr>\n",
       "    <tr>\n",
       "      <th>3</th>\n",
       "      <td>4</td>\n",
       "      <td>Ford Model T</td>\n",
       "      <td>Ford</td>\n",
       "      <td>1969</td>\n",
       "      <td>Vintage</td>\n",
       "      <td>185609.0</td>\n",
       "      <td>19.22</td>\n",
       "      <td>4.1</td>\n",
       "      <td>Electric</td>\n",
       "      <td>Manual</td>\n",
       "    </tr>\n",
       "  </tbody>\n",
       "</table>\n",
       "</div>"
      ],
      "text/plain": [
       "   Car_ID             Car_Name         Brand  Year Category     Price  \\\n",
       "1       2         Jaguar EType        Jaguar  1979  Vintage  198454.0   \n",
       "2       3  MercedesBenz SClass  MercedesBenz  2010   Luxury  291714.0   \n",
       "3       4         Ford Model T          Ford  1969  Vintage  185609.0   \n",
       "\n",
       "   Mileage  Engine_Size Fuel_Type    Transmission  \n",
       "1    33.68          5.5  Electric  Semi-Automatic  \n",
       "2    41.53          4.8  Electric  Semi-Automatic  \n",
       "3    19.22          4.1  Electric          Manual  "
      ]
     },
     "execution_count": 34,
     "metadata": {},
     "output_type": "execute_result"
    }
   ],
   "source": [
    "df.head(3)"
   ]
  },
  {
   "cell_type": "code",
   "execution_count": 35,
   "id": "ffbfea70-606e-414e-84f1-1959df7f91a5",
   "metadata": {},
   "outputs": [],
   "source": [
    "df['Car_Model']= df['Car_Name'].apply(lambda x: \"\".join(x.split()[1:]))"
   ]
  },
  {
   "cell_type": "code",
   "execution_count": 36,
   "id": "039d0fa0-2b37-4ac1-87a0-d8a7650cb771",
   "metadata": {},
   "outputs": [
    {
     "data": {
      "text/html": [
       "<div>\n",
       "<style scoped>\n",
       "    .dataframe tbody tr th:only-of-type {\n",
       "        vertical-align: middle;\n",
       "    }\n",
       "\n",
       "    .dataframe tbody tr th {\n",
       "        vertical-align: top;\n",
       "    }\n",
       "\n",
       "    .dataframe thead th {\n",
       "        text-align: right;\n",
       "    }\n",
       "</style>\n",
       "<table border=\"1\" class=\"dataframe\">\n",
       "  <thead>\n",
       "    <tr style=\"text-align: right;\">\n",
       "      <th></th>\n",
       "      <th>Car_ID</th>\n",
       "      <th>Car_Name</th>\n",
       "      <th>Brand</th>\n",
       "      <th>Year</th>\n",
       "      <th>Category</th>\n",
       "      <th>Price</th>\n",
       "      <th>Mileage</th>\n",
       "      <th>Engine_Size</th>\n",
       "      <th>Fuel_Type</th>\n",
       "      <th>Transmission</th>\n",
       "      <th>Car_Model</th>\n",
       "    </tr>\n",
       "  </thead>\n",
       "  <tbody>\n",
       "    <tr>\n",
       "      <th>1</th>\n",
       "      <td>2</td>\n",
       "      <td>Jaguar EType</td>\n",
       "      <td>Jaguar</td>\n",
       "      <td>1979</td>\n",
       "      <td>Vintage</td>\n",
       "      <td>198454.0</td>\n",
       "      <td>33.68</td>\n",
       "      <td>5.5</td>\n",
       "      <td>Electric</td>\n",
       "      <td>Semi-Automatic</td>\n",
       "      <td>EType</td>\n",
       "    </tr>\n",
       "    <tr>\n",
       "      <th>2</th>\n",
       "      <td>3</td>\n",
       "      <td>MercedesBenz SClass</td>\n",
       "      <td>MercedesBenz</td>\n",
       "      <td>2010</td>\n",
       "      <td>Luxury</td>\n",
       "      <td>291714.0</td>\n",
       "      <td>41.53</td>\n",
       "      <td>4.8</td>\n",
       "      <td>Electric</td>\n",
       "      <td>Semi-Automatic</td>\n",
       "      <td>SClass</td>\n",
       "    </tr>\n",
       "  </tbody>\n",
       "</table>\n",
       "</div>"
      ],
      "text/plain": [
       "   Car_ID             Car_Name         Brand  Year Category     Price  \\\n",
       "1       2         Jaguar EType        Jaguar  1979  Vintage  198454.0   \n",
       "2       3  MercedesBenz SClass  MercedesBenz  2010   Luxury  291714.0   \n",
       "\n",
       "   Mileage  Engine_Size Fuel_Type    Transmission Car_Model  \n",
       "1    33.68          5.5  Electric  Semi-Automatic     EType  \n",
       "2    41.53          4.8  Electric  Semi-Automatic    SClass  "
      ]
     },
     "execution_count": 36,
     "metadata": {},
     "output_type": "execute_result"
    }
   ],
   "source": [
    "df.head(2)"
   ]
  },
  {
   "cell_type": "code",
   "execution_count": 37,
   "id": "4c6de17e-84fe-42f9-a869-006e40ae0904",
   "metadata": {},
   "outputs": [
    {
     "data": {
      "text/html": [
       "<div>\n",
       "<style scoped>\n",
       "    .dataframe tbody tr th:only-of-type {\n",
       "        vertical-align: middle;\n",
       "    }\n",
       "\n",
       "    .dataframe tbody tr th {\n",
       "        vertical-align: top;\n",
       "    }\n",
       "\n",
       "    .dataframe thead th {\n",
       "        text-align: right;\n",
       "    }\n",
       "</style>\n",
       "<table border=\"1\" class=\"dataframe\">\n",
       "  <thead>\n",
       "    <tr style=\"text-align: right;\">\n",
       "      <th></th>\n",
       "      <th>Car_ID</th>\n",
       "      <th>Brand</th>\n",
       "      <th>Year</th>\n",
       "      <th>Category</th>\n",
       "      <th>Price</th>\n",
       "      <th>Mileage</th>\n",
       "      <th>Engine_Size</th>\n",
       "      <th>Fuel_Type</th>\n",
       "      <th>Transmission</th>\n",
       "      <th>Car_Model</th>\n",
       "    </tr>\n",
       "  </thead>\n",
       "  <tbody>\n",
       "    <tr>\n",
       "      <th>1</th>\n",
       "      <td>2</td>\n",
       "      <td>Jaguar</td>\n",
       "      <td>1979</td>\n",
       "      <td>Vintage</td>\n",
       "      <td>198454.0</td>\n",
       "      <td>33.68</td>\n",
       "      <td>5.5</td>\n",
       "      <td>Electric</td>\n",
       "      <td>Semi-Automatic</td>\n",
       "      <td>EType</td>\n",
       "    </tr>\n",
       "    <tr>\n",
       "      <th>2</th>\n",
       "      <td>3</td>\n",
       "      <td>MercedesBenz</td>\n",
       "      <td>2010</td>\n",
       "      <td>Luxury</td>\n",
       "      <td>291714.0</td>\n",
       "      <td>41.53</td>\n",
       "      <td>4.8</td>\n",
       "      <td>Electric</td>\n",
       "      <td>Semi-Automatic</td>\n",
       "      <td>SClass</td>\n",
       "    </tr>\n",
       "  </tbody>\n",
       "</table>\n",
       "</div>"
      ],
      "text/plain": [
       "   Car_ID         Brand  Year Category     Price  Mileage  Engine_Size  \\\n",
       "1       2        Jaguar  1979  Vintage  198454.0    33.68          5.5   \n",
       "2       3  MercedesBenz  2010   Luxury  291714.0    41.53          4.8   \n",
       "\n",
       "  Fuel_Type    Transmission Car_Model  \n",
       "1  Electric  Semi-Automatic     EType  \n",
       "2  Electric  Semi-Automatic    SClass  "
      ]
     },
     "execution_count": 37,
     "metadata": {},
     "output_type": "execute_result"
    }
   ],
   "source": [
    "# drop Car_Name column \n",
    "df.drop('Car_Name',axis=1,inplace=True)\n",
    "df.head(2)"
   ]
  },
  {
   "cell_type": "markdown",
   "id": "bd080e4f-bf93-4884-b761-752710ab5a81",
   "metadata": {},
   "source": [
    "#### Transmission column"
   ]
  },
  {
   "cell_type": "code",
   "execution_count": 38,
   "id": "68997e8b-35f9-43ef-a1a8-868830020543",
   "metadata": {},
   "outputs": [
    {
     "data": {
      "text/plain": [
       "array(['Semi-Automatic', 'Manual', 'CVT', 'Automatic'], dtype=object)"
      ]
     },
     "execution_count": 38,
     "metadata": {},
     "output_type": "execute_result"
    }
   ],
   "source": [
    "df['Transmission'].unique()"
   ]
  },
  {
   "cell_type": "code",
   "execution_count": 39,
   "id": "91761207-aec3-4f23-ac71-d802cec6c6c4",
   "metadata": {},
   "outputs": [],
   "source": [
    "df['Transmission']= df['Transmission'].str.strip().str.replace(r\"[^a-zA-Z0-9 ]\",\"\",regex=True)"
   ]
  },
  {
   "cell_type": "code",
   "execution_count": 40,
   "id": "62a7ea11-5a25-43c5-b205-96738f1a22bd",
   "metadata": {},
   "outputs": [
    {
     "data": {
      "text/html": [
       "<div>\n",
       "<style scoped>\n",
       "    .dataframe tbody tr th:only-of-type {\n",
       "        vertical-align: middle;\n",
       "    }\n",
       "\n",
       "    .dataframe tbody tr th {\n",
       "        vertical-align: top;\n",
       "    }\n",
       "\n",
       "    .dataframe thead th {\n",
       "        text-align: right;\n",
       "    }\n",
       "</style>\n",
       "<table border=\"1\" class=\"dataframe\">\n",
       "  <thead>\n",
       "    <tr style=\"text-align: right;\">\n",
       "      <th></th>\n",
       "      <th>Car_ID</th>\n",
       "      <th>Brand</th>\n",
       "      <th>Year</th>\n",
       "      <th>Category</th>\n",
       "      <th>Price</th>\n",
       "      <th>Mileage</th>\n",
       "      <th>Engine_Size</th>\n",
       "      <th>Fuel_Type</th>\n",
       "      <th>Transmission</th>\n",
       "      <th>Car_Model</th>\n",
       "    </tr>\n",
       "  </thead>\n",
       "  <tbody>\n",
       "    <tr>\n",
       "      <th>1</th>\n",
       "      <td>2</td>\n",
       "      <td>Jaguar</td>\n",
       "      <td>1979</td>\n",
       "      <td>Vintage</td>\n",
       "      <td>198454.0</td>\n",
       "      <td>33.68</td>\n",
       "      <td>5.5</td>\n",
       "      <td>Electric</td>\n",
       "      <td>SemiAutomatic</td>\n",
       "      <td>EType</td>\n",
       "    </tr>\n",
       "    <tr>\n",
       "      <th>2</th>\n",
       "      <td>3</td>\n",
       "      <td>MercedesBenz</td>\n",
       "      <td>2010</td>\n",
       "      <td>Luxury</td>\n",
       "      <td>291714.0</td>\n",
       "      <td>41.53</td>\n",
       "      <td>4.8</td>\n",
       "      <td>Electric</td>\n",
       "      <td>SemiAutomatic</td>\n",
       "      <td>SClass</td>\n",
       "    </tr>\n",
       "    <tr>\n",
       "      <th>3</th>\n",
       "      <td>4</td>\n",
       "      <td>Ford</td>\n",
       "      <td>1969</td>\n",
       "      <td>Vintage</td>\n",
       "      <td>185609.0</td>\n",
       "      <td>19.22</td>\n",
       "      <td>4.1</td>\n",
       "      <td>Electric</td>\n",
       "      <td>Manual</td>\n",
       "      <td>ModelT</td>\n",
       "    </tr>\n",
       "    <tr>\n",
       "      <th>4</th>\n",
       "      <td>5</td>\n",
       "      <td>MercedesBenz</td>\n",
       "      <td>2013</td>\n",
       "      <td>Luxury</td>\n",
       "      <td>330250.0</td>\n",
       "      <td>16.37</td>\n",
       "      <td>3.8</td>\n",
       "      <td>Diesel</td>\n",
       "      <td>CVT</td>\n",
       "      <td>SClass</td>\n",
       "    </tr>\n",
       "    <tr>\n",
       "      <th>5</th>\n",
       "      <td>6</td>\n",
       "      <td>Bmw</td>\n",
       "      <td>1993</td>\n",
       "      <td>Modern</td>\n",
       "      <td>97352.0</td>\n",
       "      <td>35.39</td>\n",
       "      <td>4.6</td>\n",
       "      <td>Diesel</td>\n",
       "      <td>CVT</td>\n",
       "      <td>3Series</td>\n",
       "    </tr>\n",
       "  </tbody>\n",
       "</table>\n",
       "</div>"
      ],
      "text/plain": [
       "   Car_ID         Brand  Year Category     Price  Mileage  Engine_Size  \\\n",
       "1       2        Jaguar  1979  Vintage  198454.0    33.68          5.5   \n",
       "2       3  MercedesBenz  2010   Luxury  291714.0    41.53          4.8   \n",
       "3       4          Ford  1969  Vintage  185609.0    19.22          4.1   \n",
       "4       5  MercedesBenz  2013   Luxury  330250.0    16.37          3.8   \n",
       "5       6           Bmw  1993   Modern   97352.0    35.39          4.6   \n",
       "\n",
       "  Fuel_Type   Transmission Car_Model  \n",
       "1  Electric  SemiAutomatic     EType  \n",
       "2  Electric  SemiAutomatic    SClass  \n",
       "3  Electric         Manual    ModelT  \n",
       "4    Diesel            CVT    SClass  \n",
       "5    Diesel            CVT   3Series  "
      ]
     },
     "execution_count": 40,
     "metadata": {},
     "output_type": "execute_result"
    }
   ],
   "source": [
    "df.head()"
   ]
  },
  {
   "cell_type": "markdown",
   "id": "256cc29e-e829-4772-88fa-f1ccf85e748f",
   "metadata": {},
   "source": [
    "## EDA "
   ]
  },
  {
   "cell_type": "markdown",
   "id": "d846c103-463f-4d80-b5f0-af5d28fe6f73",
   "metadata": {},
   "source": [
    "#### Mileage vs Price"
   ]
  },
  {
   "cell_type": "code",
   "execution_count": 41,
   "id": "20fca169-dcc6-4e42-9042-b9952bdc6772",
   "metadata": {},
   "outputs": [
    {
     "data": {
      "text/plain": [
       "2.9956775742017894"
      ]
     },
     "execution_count": 41,
     "metadata": {},
     "output_type": "execute_result"
    }
   ],
   "source": [
    "df['Price'].skew()"
   ]
  },
  {
   "cell_type": "markdown",
   "id": "5c4f14f0-a3d0-4af7-8d8e-c95d033551e5",
   "metadata": {},
   "source": [
    "#### Observation "
   ]
  },
  {
   "cell_type": "markdown",
   "id": "a6c4293e-b2c4-4448-8ab4-6a5911d241c9",
   "metadata": {},
   "source": [
    "It is >1, so it is highly skewed so we have to transform it into log transformation for better result and better visualization"
   ]
  },
  {
   "cell_type": "code",
   "execution_count": 42,
   "id": "1ae0db01-fec2-4473-8f38-1e10383eb264",
   "metadata": {},
   "outputs": [
    {
     "data": {
      "image/png": "[encoded data removed]",
      "text/plain": [
       "<Figure size 640x480 with 1 Axes>"
      ]
     },
     "metadata": {},
     "output_type": "display_data"
    }
   ],
   "source": [
    "sns.histplot(df['Price'],bins=50,kde=True)\n",
    "plt.show()"
   ]
  },
  {
   "cell_type": "markdown",
   "id": "c6d4c4f4-d21f-4960-9b39-6c4691097def",
   "metadata": {},
   "source": [
    "### Observation"
   ]
  },
  {
   "cell_type": "markdown",
   "id": "ea6702a6-a6f3-43fa-be78-5e140413a4fb",
   "metadata": {},
   "source": [
    "1) Most car belongs to low range price \n",
    "2) Few cars have high price which causes skewness in dataset"
   ]
  },
  {
   "cell_type": "markdown",
   "id": "b4771482-821c-4f87-a430-aef668aaaa78",
   "metadata": {},
   "source": [
    "#### Applying log transformation to get normal distribution curve"
   ]
  },
  {
   "cell_type": "code",
   "execution_count": 43,
   "id": "641e6ff1-a483-407a-801a-0be9ca2be4b5",
   "metadata": {},
   "outputs": [],
   "source": [
    "df['log_price']= np.log1p(df['Price'])"
   ]
  },
  {
   "cell_type": "code",
   "execution_count": 44,
   "id": "5b31c8e4-eafe-4d4c-9d2b-4bb1499aea16",
   "metadata": {},
   "outputs": [
    {
     "data": {
      "text/html": [
       "<div>\n",
       "<style scoped>\n",
       "    .dataframe tbody tr th:only-of-type {\n",
       "        vertical-align: middle;\n",
       "    }\n",
       "\n",
       "    .dataframe tbody tr th {\n",
       "        vertical-align: top;\n",
       "    }\n",
       "\n",
       "    .dataframe thead th {\n",
       "        text-align: right;\n",
       "    }\n",
       "</style>\n",
       "<table border=\"1\" class=\"dataframe\">\n",
       "  <thead>\n",
       "    <tr style=\"text-align: right;\">\n",
       "      <th></th>\n",
       "      <th>Car_ID</th>\n",
       "      <th>Brand</th>\n",
       "      <th>Year</th>\n",
       "      <th>Category</th>\n",
       "      <th>Price</th>\n",
       "      <th>Mileage</th>\n",
       "      <th>Engine_Size</th>\n",
       "      <th>Fuel_Type</th>\n",
       "      <th>Transmission</th>\n",
       "      <th>Car_Model</th>\n",
       "      <th>log_price</th>\n",
       "    </tr>\n",
       "  </thead>\n",
       "  <tbody>\n",
       "    <tr>\n",
       "      <th>1</th>\n",
       "      <td>2</td>\n",
       "      <td>Jaguar</td>\n",
       "      <td>1979</td>\n",
       "      <td>Vintage</td>\n",
       "      <td>198454.0</td>\n",
       "      <td>33.68</td>\n",
       "      <td>5.5</td>\n",
       "      <td>Electric</td>\n",
       "      <td>SemiAutomatic</td>\n",
       "      <td>EType</td>\n",
       "      <td>12.198318</td>\n",
       "    </tr>\n",
       "    <tr>\n",
       "      <th>2</th>\n",
       "      <td>3</td>\n",
       "      <td>MercedesBenz</td>\n",
       "      <td>2010</td>\n",
       "      <td>Luxury</td>\n",
       "      <td>291714.0</td>\n",
       "      <td>41.53</td>\n",
       "      <td>4.8</td>\n",
       "      <td>Electric</td>\n",
       "      <td>SemiAutomatic</td>\n",
       "      <td>SClass</td>\n",
       "      <td>12.583533</td>\n",
       "    </tr>\n",
       "    <tr>\n",
       "      <th>3</th>\n",
       "      <td>4</td>\n",
       "      <td>Ford</td>\n",
       "      <td>1969</td>\n",
       "      <td>Vintage</td>\n",
       "      <td>185609.0</td>\n",
       "      <td>19.22</td>\n",
       "      <td>4.1</td>\n",
       "      <td>Electric</td>\n",
       "      <td>Manual</td>\n",
       "      <td>ModelT</td>\n",
       "      <td>12.131403</td>\n",
       "    </tr>\n",
       "    <tr>\n",
       "      <th>4</th>\n",
       "      <td>5</td>\n",
       "      <td>MercedesBenz</td>\n",
       "      <td>2013</td>\n",
       "      <td>Luxury</td>\n",
       "      <td>330250.0</td>\n",
       "      <td>16.37</td>\n",
       "      <td>3.8</td>\n",
       "      <td>Diesel</td>\n",
       "      <td>CVT</td>\n",
       "      <td>SClass</td>\n",
       "      <td>12.707608</td>\n",
       "    </tr>\n",
       "    <tr>\n",
       "      <th>5</th>\n",
       "      <td>6</td>\n",
       "      <td>Bmw</td>\n",
       "      <td>1993</td>\n",
       "      <td>Modern</td>\n",
       "      <td>97352.0</td>\n",
       "      <td>35.39</td>\n",
       "      <td>4.6</td>\n",
       "      <td>Diesel</td>\n",
       "      <td>CVT</td>\n",
       "      <td>3Series</td>\n",
       "      <td>11.486099</td>\n",
       "    </tr>\n",
       "  </tbody>\n",
       "</table>\n",
       "</div>"
      ],
      "text/plain": [
       "   Car_ID         Brand  Year Category     Price  Mileage  Engine_Size  \\\n",
       "1       2        Jaguar  1979  Vintage  198454.0    33.68          5.5   \n",
       "2       3  MercedesBenz  2010   Luxury  291714.0    41.53          4.8   \n",
       "3       4          Ford  1969  Vintage  185609.0    19.22          4.1   \n",
       "4       5  MercedesBenz  2013   Luxury  330250.0    16.37          3.8   \n",
       "5       6           Bmw  1993   Modern   97352.0    35.39          4.6   \n",
       "\n",
       "  Fuel_Type   Transmission Car_Model  log_price  \n",
       "1  Electric  SemiAutomatic     EType  12.198318  \n",
       "2  Electric  SemiAutomatic    SClass  12.583533  \n",
       "3  Electric         Manual    ModelT  12.131403  \n",
       "4    Diesel            CVT    SClass  12.707608  \n",
       "5    Diesel            CVT   3Series  11.486099  "
      ]
     },
     "execution_count": 44,
     "metadata": {},
     "output_type": "execute_result"
    }
   ],
   "source": [
    "df.head()"
   ]
  },
  {
   "cell_type": "code",
   "execution_count": 45,
   "id": "adf7f63d-514c-4a7f-8f74-381cdf0b2898",
   "metadata": {},
   "outputs": [
    {
     "data": {
      "image/png": "[encoded data removed]",
      "text/plain": [
       "<Figure size 640x480 with 1 Axes>"
      ]
     },
     "metadata": {},
     "output_type": "display_data"
    }
   ],
   "source": [
    "sns.histplot(df['log_price'],bins=50,kde=True)\n",
    "plt.show()"
   ]
  },
  {
   "cell_type": "markdown",
   "id": "7dedae7e-d793-4bc4-a751-ad5373817c4a",
   "metadata": {},
   "source": [
    "1) The data is now less skewed as compare to before\n",
    "2) The transformation compressed extreme high points , making the range more manageable for model building"
   ]
  },
  {
   "cell_type": "code",
   "execution_count": 46,
   "id": "46de637a-3b2d-4d36-89a8-5a236b598d57",
   "metadata": {},
   "outputs": [
    {
     "data": {
      "image/png": "[encoded data removed]",
      "text/plain": [
       "<Figure size 640x480 with 1 Axes>"
      ]
     },
     "metadata": {},
     "output_type": "display_data"
    }
   ],
   "source": [
    "sns.scatterplot(df,x='Mileage',y='log_price')\n",
    "plt.show()"
   ]
  },
  {
   "cell_type": "markdown",
   "id": "952c8b79-d0f8-4e72-8b06-2f4b72a8982b",
   "metadata": {},
   "source": [
    "#### Observation"
   ]
  },
  {
   "cell_type": "markdown",
   "id": "c8fb5003-5a67-4db3-b7ce-14125d3a6ace",
   "metadata": {},
   "source": [
    "1) Most of the cars give mileage between 10 to 50\n",
    "2) Luxury cars have high mileage and high price range"
   ]
  },
  {
   "cell_type": "markdown",
   "id": "510b582a-7f3e-40b8-8755-38db99583458",
   "metadata": {},
   "source": [
    "#### Category vs Price"
   ]
  },
  {
   "cell_type": "code",
   "execution_count": 47,
   "id": "063a72bd-d061-4158-81a9-a75fe4777581",
   "metadata": {},
   "outputs": [
    {
     "data": {
      "image/png": "[encoded data removed]",
      "text/plain": [
       "<Figure size 640x480 with 1 Axes>"
      ]
     },
     "metadata": {},
     "output_type": "display_data"
    }
   ],
   "source": [
    "sns.scatterplot(df,x='Category',y='log_price',hue='Mileage')\n",
    "plt.legend(title=\"Mileage\", bbox_to_anchor=(1.05, 1), loc='upper left')  # Move legend to the right\n",
    "plt.show()"
   ]
  },
  {
   "cell_type": "markdown",
   "id": "279fa6ce-b349-46c4-b6da-851c26b286c5",
   "metadata": {},
   "source": [
    "### Observation"
   ]
  },
  {
   "cell_type": "markdown",
   "id": "0fa9b38f-f2b3-4adb-99ce-9fe934bf060d",
   "metadata": {},
   "source": [
    "1) Low mileage cars have low price \n",
    "2) High mileage cars have high price as compare to other cars\n",
    "3) Some cars have high mileage but low price but it depends upon manufacutring year or may be specifications"
   ]
  },
  {
   "cell_type": "code",
   "execution_count": 48,
   "id": "3fb6e376-f331-45cc-ba95-37094ce667ee",
   "metadata": {},
   "outputs": [
    {
     "data": {
      "text/html": [
       "<div>\n",
       "<style scoped>\n",
       "    .dataframe tbody tr th:only-of-type {\n",
       "        vertical-align: middle;\n",
       "    }\n",
       "\n",
       "    .dataframe tbody tr th {\n",
       "        vertical-align: top;\n",
       "    }\n",
       "\n",
       "    .dataframe thead th {\n",
       "        text-align: right;\n",
       "    }\n",
       "</style>\n",
       "<table border=\"1\" class=\"dataframe\">\n",
       "  <thead>\n",
       "    <tr style=\"text-align: right;\">\n",
       "      <th></th>\n",
       "      <th>Car_ID</th>\n",
       "      <th>Year</th>\n",
       "      <th>Price</th>\n",
       "      <th>Mileage</th>\n",
       "      <th>Engine_Size</th>\n",
       "      <th>log_price</th>\n",
       "    </tr>\n",
       "  </thead>\n",
       "  <tbody>\n",
       "    <tr>\n",
       "      <th>Car_ID</th>\n",
       "      <td>1.000000</td>\n",
       "      <td>0.007607</td>\n",
       "      <td>0.003554</td>\n",
       "      <td>-0.006818</td>\n",
       "      <td>-0.012644</td>\n",
       "      <td>0.000126</td>\n",
       "    </tr>\n",
       "    <tr>\n",
       "      <th>Year</th>\n",
       "      <td>0.007607</td>\n",
       "      <td>1.000000</td>\n",
       "      <td>0.323943</td>\n",
       "      <td>-0.003124</td>\n",
       "      <td>-0.001851</td>\n",
       "      <td>0.282597</td>\n",
       "    </tr>\n",
       "    <tr>\n",
       "      <th>Price</th>\n",
       "      <td>0.003554</td>\n",
       "      <td>0.323943</td>\n",
       "      <td>1.000000</td>\n",
       "      <td>0.020222</td>\n",
       "      <td>0.002404</td>\n",
       "      <td>0.846149</td>\n",
       "    </tr>\n",
       "    <tr>\n",
       "      <th>Mileage</th>\n",
       "      <td>-0.006818</td>\n",
       "      <td>-0.003124</td>\n",
       "      <td>0.020222</td>\n",
       "      <td>1.000000</td>\n",
       "      <td>0.012871</td>\n",
       "      <td>0.007207</td>\n",
       "    </tr>\n",
       "    <tr>\n",
       "      <th>Engine_Size</th>\n",
       "      <td>-0.012644</td>\n",
       "      <td>-0.001851</td>\n",
       "      <td>0.002404</td>\n",
       "      <td>0.012871</td>\n",
       "      <td>1.000000</td>\n",
       "      <td>0.004457</td>\n",
       "    </tr>\n",
       "    <tr>\n",
       "      <th>log_price</th>\n",
       "      <td>0.000126</td>\n",
       "      <td>0.282597</td>\n",
       "      <td>0.846149</td>\n",
       "      <td>0.007207</td>\n",
       "      <td>0.004457</td>\n",
       "      <td>1.000000</td>\n",
       "    </tr>\n",
       "  </tbody>\n",
       "</table>\n",
       "</div>"
      ],
      "text/plain": [
       "               Car_ID      Year     Price   Mileage  Engine_Size  log_price\n",
       "Car_ID       1.000000  0.007607  0.003554 -0.006818    -0.012644   0.000126\n",
       "Year         0.007607  1.000000  0.323943 -0.003124    -0.001851   0.282597\n",
       "Price        0.003554  0.323943  1.000000  0.020222     0.002404   0.846149\n",
       "Mileage     -0.006818 -0.003124  0.020222  1.000000     0.012871   0.007207\n",
       "Engine_Size -0.012644 -0.001851  0.002404  0.012871     1.000000   0.004457\n",
       "log_price    0.000126  0.282597  0.846149  0.007207     0.004457   1.000000"
      ]
     },
     "execution_count": 48,
     "metadata": {},
     "output_type": "execute_result"
    }
   ],
   "source": [
    "df_numeric = df.corr(numeric_only=True)\n",
    "df_numeric"
   ]
  },
  {
   "cell_type": "code",
   "execution_count": 49,
   "id": "25596f19-39bc-41a9-8247-402383b2cdbe",
   "metadata": {},
   "outputs": [
    {
     "data": {
      "text/plain": [
       "<Axes: >"
      ]
     },
     "execution_count": 49,
     "metadata": {},
     "output_type": "execute_result"
    },
    {
     "data": {
      "image/png": "[encoded data removed]",
      "text/plain": [
       "<Figure size 640x480 with 2 Axes>"
      ]
     },
     "metadata": {},
     "output_type": "display_data"
    }
   ],
   "source": [
    "sns.heatmap(df_numeric)"
   ]
  },
  {
   "cell_type": "markdown",
   "id": "5aaecd23-d4e1-4fc9-885d-2ab04169703e",
   "metadata": {},
   "source": [
    "### Observation"
   ]
  },
  {
   "cell_type": "markdown",
   "id": "002b3c67-9e93-45ac-a753-6faa9d9aa0ba",
   "metadata": {},
   "source": [
    "1) Since we have very less correlated features so we have to do more work upon feature engineering "
   ]
  },
  {
   "cell_type": "markdown",
   "id": "bd71ee76-1b01-43ed-8ffa-803f96242087",
   "metadata": {},
   "source": [
    "## Adding some feature to get better result"
   ]
  },
  {
   "cell_type": "markdown",
   "id": "681fb9f4-78d7-4e7e-a085-d05f7acda58b",
   "metadata": {},
   "source": [
    "#### 1) Car Age column "
   ]
  },
  {
   "cell_type": "code",
   "execution_count": 50,
   "id": "99691f46-ca00-46e8-ae53-ca7e671b90c1",
   "metadata": {},
   "outputs": [],
   "source": [
    "df['Car_age'] = 2025 - df['Year']"
   ]
  },
  {
   "cell_type": "code",
   "execution_count": 51,
   "id": "3e196cbd-e17b-4df5-be24-f231a8053ed7",
   "metadata": {},
   "outputs": [
    {
     "data": {
      "text/html": [
       "<div>\n",
       "<style scoped>\n",
       "    .dataframe tbody tr th:only-of-type {\n",
       "        vertical-align: middle;\n",
       "    }\n",
       "\n",
       "    .dataframe tbody tr th {\n",
       "        vertical-align: top;\n",
       "    }\n",
       "\n",
       "    .dataframe thead th {\n",
       "        text-align: right;\n",
       "    }\n",
       "</style>\n",
       "<table border=\"1\" class=\"dataframe\">\n",
       "  <thead>\n",
       "    <tr style=\"text-align: right;\">\n",
       "      <th></th>\n",
       "      <th>Car_ID</th>\n",
       "      <th>Brand</th>\n",
       "      <th>Year</th>\n",
       "      <th>Category</th>\n",
       "      <th>Price</th>\n",
       "      <th>Mileage</th>\n",
       "      <th>Engine_Size</th>\n",
       "      <th>Fuel_Type</th>\n",
       "      <th>Transmission</th>\n",
       "      <th>Car_Model</th>\n",
       "      <th>log_price</th>\n",
       "      <th>Car_age</th>\n",
       "    </tr>\n",
       "  </thead>\n",
       "  <tbody>\n",
       "    <tr>\n",
       "      <th>1</th>\n",
       "      <td>2</td>\n",
       "      <td>Jaguar</td>\n",
       "      <td>1979</td>\n",
       "      <td>Vintage</td>\n",
       "      <td>198454.0</td>\n",
       "      <td>33.68</td>\n",
       "      <td>5.5</td>\n",
       "      <td>Electric</td>\n",
       "      <td>SemiAutomatic</td>\n",
       "      <td>EType</td>\n",
       "      <td>12.198318</td>\n",
       "      <td>46</td>\n",
       "    </tr>\n",
       "    <tr>\n",
       "      <th>2</th>\n",
       "      <td>3</td>\n",
       "      <td>MercedesBenz</td>\n",
       "      <td>2010</td>\n",
       "      <td>Luxury</td>\n",
       "      <td>291714.0</td>\n",
       "      <td>41.53</td>\n",
       "      <td>4.8</td>\n",
       "      <td>Electric</td>\n",
       "      <td>SemiAutomatic</td>\n",
       "      <td>SClass</td>\n",
       "      <td>12.583533</td>\n",
       "      <td>15</td>\n",
       "    </tr>\n",
       "    <tr>\n",
       "      <th>3</th>\n",
       "      <td>4</td>\n",
       "      <td>Ford</td>\n",
       "      <td>1969</td>\n",
       "      <td>Vintage</td>\n",
       "      <td>185609.0</td>\n",
       "      <td>19.22</td>\n",
       "      <td>4.1</td>\n",
       "      <td>Electric</td>\n",
       "      <td>Manual</td>\n",
       "      <td>ModelT</td>\n",
       "      <td>12.131403</td>\n",
       "      <td>56</td>\n",
       "    </tr>\n",
       "  </tbody>\n",
       "</table>\n",
       "</div>"
      ],
      "text/plain": [
       "   Car_ID         Brand  Year Category     Price  Mileage  Engine_Size  \\\n",
       "1       2        Jaguar  1979  Vintage  198454.0    33.68          5.5   \n",
       "2       3  MercedesBenz  2010   Luxury  291714.0    41.53          4.8   \n",
       "3       4          Ford  1969  Vintage  185609.0    19.22          4.1   \n",
       "\n",
       "  Fuel_Type   Transmission Car_Model  log_price  Car_age  \n",
       "1  Electric  SemiAutomatic     EType  12.198318       46  \n",
       "2  Electric  SemiAutomatic    SClass  12.583533       15  \n",
       "3  Electric         Manual    ModelT  12.131403       56  "
      ]
     },
     "execution_count": 51,
     "metadata": {},
     "output_type": "execute_result"
    }
   ],
   "source": [
    "df.head(3)"
   ]
  },
  {
   "cell_type": "markdown",
   "id": "8983ffd6-8b43-45c2-b5fe-e070abdcb478",
   "metadata": {},
   "source": [
    "#### 2) Mileage per Engine Size"
   ]
  },
  {
   "cell_type": "code",
   "execution_count": 52,
   "id": "b0dc48c6-2a97-40c8-8a9d-b945e58b0730",
   "metadata": {},
   "outputs": [],
   "source": [
    "df['Mileage_per_engine_size'] = df['Mileage']/ df['Engine_Size']"
   ]
  },
  {
   "cell_type": "code",
   "execution_count": 53,
   "id": "6b91c8e8-7a24-4cf1-8e29-b3d3f609871c",
   "metadata": {},
   "outputs": [
    {
     "data": {
      "text/html": [
       "<div>\n",
       "<style scoped>\n",
       "    .dataframe tbody tr th:only-of-type {\n",
       "        vertical-align: middle;\n",
       "    }\n",
       "\n",
       "    .dataframe tbody tr th {\n",
       "        vertical-align: top;\n",
       "    }\n",
       "\n",
       "    .dataframe thead th {\n",
       "        text-align: right;\n",
       "    }\n",
       "</style>\n",
       "<table border=\"1\" class=\"dataframe\">\n",
       "  <thead>\n",
       "    <tr style=\"text-align: right;\">\n",
       "      <th></th>\n",
       "      <th>Car_ID</th>\n",
       "      <th>Brand</th>\n",
       "      <th>Year</th>\n",
       "      <th>Category</th>\n",
       "      <th>Price</th>\n",
       "      <th>Mileage</th>\n",
       "      <th>Engine_Size</th>\n",
       "      <th>Fuel_Type</th>\n",
       "      <th>Transmission</th>\n",
       "      <th>Car_Model</th>\n",
       "      <th>log_price</th>\n",
       "      <th>Car_age</th>\n",
       "      <th>Mileage_per_engine_size</th>\n",
       "    </tr>\n",
       "  </thead>\n",
       "  <tbody>\n",
       "    <tr>\n",
       "      <th>1</th>\n",
       "      <td>2</td>\n",
       "      <td>Jaguar</td>\n",
       "      <td>1979</td>\n",
       "      <td>Vintage</td>\n",
       "      <td>198454.0</td>\n",
       "      <td>33.68</td>\n",
       "      <td>5.5</td>\n",
       "      <td>Electric</td>\n",
       "      <td>SemiAutomatic</td>\n",
       "      <td>EType</td>\n",
       "      <td>12.198318</td>\n",
       "      <td>46</td>\n",
       "      <td>6.123636</td>\n",
       "    </tr>\n",
       "    <tr>\n",
       "      <th>2</th>\n",
       "      <td>3</td>\n",
       "      <td>MercedesBenz</td>\n",
       "      <td>2010</td>\n",
       "      <td>Luxury</td>\n",
       "      <td>291714.0</td>\n",
       "      <td>41.53</td>\n",
       "      <td>4.8</td>\n",
       "      <td>Electric</td>\n",
       "      <td>SemiAutomatic</td>\n",
       "      <td>SClass</td>\n",
       "      <td>12.583533</td>\n",
       "      <td>15</td>\n",
       "      <td>8.652083</td>\n",
       "    </tr>\n",
       "    <tr>\n",
       "      <th>3</th>\n",
       "      <td>4</td>\n",
       "      <td>Ford</td>\n",
       "      <td>1969</td>\n",
       "      <td>Vintage</td>\n",
       "      <td>185609.0</td>\n",
       "      <td>19.22</td>\n",
       "      <td>4.1</td>\n",
       "      <td>Electric</td>\n",
       "      <td>Manual</td>\n",
       "      <td>ModelT</td>\n",
       "      <td>12.131403</td>\n",
       "      <td>56</td>\n",
       "      <td>4.687805</td>\n",
       "    </tr>\n",
       "  </tbody>\n",
       "</table>\n",
       "</div>"
      ],
      "text/plain": [
       "   Car_ID         Brand  Year Category     Price  Mileage  Engine_Size  \\\n",
       "1       2        Jaguar  1979  Vintage  198454.0    33.68          5.5   \n",
       "2       3  MercedesBenz  2010   Luxury  291714.0    41.53          4.8   \n",
       "3       4          Ford  1969  Vintage  185609.0    19.22          4.1   \n",
       "\n",
       "  Fuel_Type   Transmission Car_Model  log_price  Car_age  \\\n",
       "1  Electric  SemiAutomatic     EType  12.198318       46   \n",
       "2  Electric  SemiAutomatic    SClass  12.583533       15   \n",
       "3  Electric         Manual    ModelT  12.131403       56   \n",
       "\n",
       "   Mileage_per_engine_size  \n",
       "1                 6.123636  \n",
       "2                 8.652083  \n",
       "3                 4.687805  "
      ]
     },
     "execution_count": 53,
     "metadata": {},
     "output_type": "execute_result"
    }
   ],
   "source": [
    "df.head(3)"
   ]
  },
  {
   "cell_type": "markdown",
   "id": "425e303c-7805-4a6a-b65e-ac34d848b1a9",
   "metadata": {},
   "source": [
    "### Data pre-processing steps"
   ]
  },
  {
   "cell_type": "code",
   "execution_count": 54,
   "id": "ad6b1d07-4b65-4d36-8d22-4e8d72748500",
   "metadata": {},
   "outputs": [],
   "source": [
    "#Drop unnecessary columns\n",
    "\n",
    "df = df.drop(columns=['Car_ID','Price','Year'])\n"
   ]
  },
  {
   "cell_type": "code",
   "execution_count": 55,
   "id": "d6c87031-6e3a-4f68-a824-3385bacec5e2",
   "metadata": {},
   "outputs": [
    {
     "data": {
      "text/html": [
       "<div>\n",
       "<style scoped>\n",
       "    .dataframe tbody tr th:only-of-type {\n",
       "        vertical-align: middle;\n",
       "    }\n",
       "\n",
       "    .dataframe tbody tr th {\n",
       "        vertical-align: top;\n",
       "    }\n",
       "\n",
       "    .dataframe thead th {\n",
       "        text-align: right;\n",
       "    }\n",
       "</style>\n",
       "<table border=\"1\" class=\"dataframe\">\n",
       "  <thead>\n",
       "    <tr style=\"text-align: right;\">\n",
       "      <th></th>\n",
       "      <th>Brand</th>\n",
       "      <th>Category</th>\n",
       "      <th>Mileage</th>\n",
       "      <th>Engine_Size</th>\n",
       "      <th>Fuel_Type</th>\n",
       "      <th>Transmission</th>\n",
       "      <th>Car_Model</th>\n",
       "      <th>log_price</th>\n",
       "      <th>Car_age</th>\n",
       "      <th>Mileage_per_engine_size</th>\n",
       "    </tr>\n",
       "  </thead>\n",
       "  <tbody>\n",
       "    <tr>\n",
       "      <th>1</th>\n",
       "      <td>Jaguar</td>\n",
       "      <td>Vintage</td>\n",
       "      <td>33.68</td>\n",
       "      <td>5.5</td>\n",
       "      <td>Electric</td>\n",
       "      <td>SemiAutomatic</td>\n",
       "      <td>EType</td>\n",
       "      <td>12.198318</td>\n",
       "      <td>46</td>\n",
       "      <td>6.123636</td>\n",
       "    </tr>\n",
       "    <tr>\n",
       "      <th>2</th>\n",
       "      <td>MercedesBenz</td>\n",
       "      <td>Luxury</td>\n",
       "      <td>41.53</td>\n",
       "      <td>4.8</td>\n",
       "      <td>Electric</td>\n",
       "      <td>SemiAutomatic</td>\n",
       "      <td>SClass</td>\n",
       "      <td>12.583533</td>\n",
       "      <td>15</td>\n",
       "      <td>8.652083</td>\n",
       "    </tr>\n",
       "    <tr>\n",
       "      <th>3</th>\n",
       "      <td>Ford</td>\n",
       "      <td>Vintage</td>\n",
       "      <td>19.22</td>\n",
       "      <td>4.1</td>\n",
       "      <td>Electric</td>\n",
       "      <td>Manual</td>\n",
       "      <td>ModelT</td>\n",
       "      <td>12.131403</td>\n",
       "      <td>56</td>\n",
       "      <td>4.687805</td>\n",
       "    </tr>\n",
       "    <tr>\n",
       "      <th>4</th>\n",
       "      <td>MercedesBenz</td>\n",
       "      <td>Luxury</td>\n",
       "      <td>16.37</td>\n",
       "      <td>3.8</td>\n",
       "      <td>Diesel</td>\n",
       "      <td>CVT</td>\n",
       "      <td>SClass</td>\n",
       "      <td>12.707608</td>\n",
       "      <td>12</td>\n",
       "      <td>4.307895</td>\n",
       "    </tr>\n",
       "    <tr>\n",
       "      <th>5</th>\n",
       "      <td>Bmw</td>\n",
       "      <td>Modern</td>\n",
       "      <td>35.39</td>\n",
       "      <td>4.6</td>\n",
       "      <td>Diesel</td>\n",
       "      <td>CVT</td>\n",
       "      <td>3Series</td>\n",
       "      <td>11.486099</td>\n",
       "      <td>32</td>\n",
       "      <td>7.693478</td>\n",
       "    </tr>\n",
       "  </tbody>\n",
       "</table>\n",
       "</div>"
      ],
      "text/plain": [
       "          Brand Category  Mileage  Engine_Size Fuel_Type   Transmission  \\\n",
       "1        Jaguar  Vintage    33.68          5.5  Electric  SemiAutomatic   \n",
       "2  MercedesBenz   Luxury    41.53          4.8  Electric  SemiAutomatic   \n",
       "3          Ford  Vintage    19.22          4.1  Electric         Manual   \n",
       "4  MercedesBenz   Luxury    16.37          3.8    Diesel            CVT   \n",
       "5           Bmw   Modern    35.39          4.6    Diesel            CVT   \n",
       "\n",
       "  Car_Model  log_price  Car_age  Mileage_per_engine_size  \n",
       "1     EType  12.198318       46                 6.123636  \n",
       "2    SClass  12.583533       15                 8.652083  \n",
       "3    ModelT  12.131403       56                 4.687805  \n",
       "4    SClass  12.707608       12                 4.307895  \n",
       "5   3Series  11.486099       32                 7.693478  "
      ]
     },
     "execution_count": 55,
     "metadata": {},
     "output_type": "execute_result"
    }
   ],
   "source": [
    "df.head()"
   ]
  },
  {
   "cell_type": "code",
   "execution_count": 56,
   "id": "5743fb49-7d86-4ac8-a403-377a690cfc53",
   "metadata": {},
   "outputs": [],
   "source": [
    "categorical_features = ['Car_Model', 'Brand', 'Fuel_Type', 'Transmission', 'Category']\n",
    "numerical_features = ['Car_age', 'Mileage', 'Engine_Size','Mileage_per_engine_size']\n",
    "target_variable = 'log_price'"
   ]
  },
  {
   "cell_type": "code",
   "execution_count": 57,
   "id": "c0ba4de4-7e08-4f43-8b7f-5c7af42baf33",
   "metadata": {},
   "outputs": [
    {
     "data": {
      "text/html": [
       "<div>\n",
       "<style scoped>\n",
       "    .dataframe tbody tr th:only-of-type {\n",
       "        vertical-align: middle;\n",
       "    }\n",
       "\n",
       "    .dataframe tbody tr th {\n",
       "        vertical-align: top;\n",
       "    }\n",
       "\n",
       "    .dataframe thead th {\n",
       "        text-align: right;\n",
       "    }\n",
       "</style>\n",
       "<table border=\"1\" class=\"dataframe\">\n",
       "  <thead>\n",
       "    <tr style=\"text-align: right;\">\n",
       "      <th></th>\n",
       "      <th>Mileage</th>\n",
       "      <th>Engine_Size</th>\n",
       "      <th>log_price</th>\n",
       "      <th>Car_age</th>\n",
       "      <th>Mileage_per_engine_size</th>\n",
       "    </tr>\n",
       "  </thead>\n",
       "  <tbody>\n",
       "    <tr>\n",
       "      <th>Mileage</th>\n",
       "      <td>1.000000</td>\n",
       "      <td>0.012871</td>\n",
       "      <td>0.007207</td>\n",
       "      <td>0.003124</td>\n",
       "      <td>0.544361</td>\n",
       "    </tr>\n",
       "    <tr>\n",
       "      <th>Engine_Size</th>\n",
       "      <td>0.012871</td>\n",
       "      <td>1.000000</td>\n",
       "      <td>0.004457</td>\n",
       "      <td>0.001851</td>\n",
       "      <td>-0.647891</td>\n",
       "    </tr>\n",
       "    <tr>\n",
       "      <th>log_price</th>\n",
       "      <td>0.007207</td>\n",
       "      <td>0.004457</td>\n",
       "      <td>1.000000</td>\n",
       "      <td>-0.282597</td>\n",
       "      <td>0.000484</td>\n",
       "    </tr>\n",
       "    <tr>\n",
       "      <th>Car_age</th>\n",
       "      <td>0.003124</td>\n",
       "      <td>0.001851</td>\n",
       "      <td>-0.282597</td>\n",
       "      <td>1.000000</td>\n",
       "      <td>0.001227</td>\n",
       "    </tr>\n",
       "    <tr>\n",
       "      <th>Mileage_per_engine_size</th>\n",
       "      <td>0.544361</td>\n",
       "      <td>-0.647891</td>\n",
       "      <td>0.000484</td>\n",
       "      <td>0.001227</td>\n",
       "      <td>1.000000</td>\n",
       "    </tr>\n",
       "  </tbody>\n",
       "</table>\n",
       "</div>"
      ],
      "text/plain": [
       "                          Mileage  Engine_Size  log_price   Car_age  \\\n",
       "Mileage                  1.000000     0.012871   0.007207  0.003124   \n",
       "Engine_Size              0.012871     1.000000   0.004457  0.001851   \n",
       "log_price                0.007207     0.004457   1.000000 -0.282597   \n",
       "Car_age                  0.003124     0.001851  -0.282597  1.000000   \n",
       "Mileage_per_engine_size  0.544361    -0.647891   0.000484  0.001227   \n",
       "\n",
       "                         Mileage_per_engine_size  \n",
       "Mileage                                 0.544361  \n",
       "Engine_Size                            -0.647891  \n",
       "log_price                               0.000484  \n",
       "Car_age                                 0.001227  \n",
       "Mileage_per_engine_size                 1.000000  "
      ]
     },
     "execution_count": 57,
     "metadata": {},
     "output_type": "execute_result"
    }
   ],
   "source": [
    "df_num = df.corr(numeric_only=True)\n",
    "df_num"
   ]
  },
  {
   "cell_type": "code",
   "execution_count": 58,
   "id": "48560736-8e43-4f3c-87be-66571d998a6e",
   "metadata": {},
   "outputs": [
    {
     "data": {
      "text/plain": [
       "<Axes: >"
      ]
     },
     "execution_count": 58,
     "metadata": {},
     "output_type": "execute_result"
    },
    {
     "data": {
      "image/png": "[encoded data removed]",
      "text/plain": [
       "<Figure size 640x480 with 2 Axes>"
      ]
     },
     "metadata": {},
     "output_type": "display_data"
    }
   ],
   "source": [
    "sns.heatmap(df_num)"
   ]
  },
  {
   "cell_type": "markdown",
   "id": "d2271d5c-cb71-4ee1-91b9-03e0cb7fa39c",
   "metadata": {},
   "source": [
    "### Categorical features"
   ]
  },
  {
   "cell_type": "code",
   "execution_count": 59,
   "id": "7fc6f73f-0766-47ef-999d-826ef8c4183c",
   "metadata": {},
   "outputs": [
    {
     "name": "stdout",
     "output_type": "stream",
     "text": [
      "Unique number of car model is  15\n",
      "Unique number of Brand is  14\n",
      "Unique number of Category is  3\n",
      "Unique number of Transmission is  4\n",
      "Unique number of Fuel_Type is  4\n"
     ]
    }
   ],
   "source": [
    "print('Unique number of car model is ',df['Car_Model'].nunique())\n",
    "print('Unique number of Brand is ',df['Brand'].nunique())\n",
    "print('Unique number of Category is ',df['Category'].nunique())\n",
    "print('Unique number of Transmission is ',df['Transmission'].nunique())\n",
    "print('Unique number of Fuel_Type is ',df['Fuel_Type'].nunique())"
   ]
  },
  {
   "cell_type": "markdown",
   "id": "aedd1edd-28d7-44f6-8a79-ed30db7b0850",
   "metadata": {},
   "source": [
    "#### Observation"
   ]
  },
  {
   "cell_type": "markdown",
   "id": "c2a2247e-d7d0-45ea-9a8d-66564ed9c1e2",
   "metadata": {},
   "source": [
    "1) Our categorical value has less than 50 unique values so we can go for get dummies \n",
    "2) Get dummies prevent from overfitting also"
   ]
  },
  {
   "cell_type": "markdown",
   "id": "df80b2ae-f205-479a-8b88-d781624cb936",
   "metadata": {},
   "source": [
    "#### Applying One Hot Encoding"
   ]
  },
  {
   "cell_type": "code",
   "execution_count": 60,
   "id": "f043664d-355f-46ab-934a-342e35ab005f",
   "metadata": {},
   "outputs": [
    {
     "data": {
      "text/plain": [
       "Index(['Brand', 'Category', 'Mileage', 'Engine_Size', 'Fuel_Type',\n",
       "       'Transmission', 'Car_Model', 'log_price', 'Car_age',\n",
       "       'Mileage_per_engine_size'],\n",
       "      dtype='object')"
      ]
     },
     "execution_count": 60,
     "metadata": {},
     "output_type": "execute_result"
    }
   ],
   "source": [
    "df.columns"
   ]
  },
  {
   "cell_type": "code",
   "execution_count": 61,
   "id": "6b04f08e-ad3a-4dd2-a4b6-6701c3c43421",
   "metadata": {},
   "outputs": [
    {
     "data": {
      "text/html": [
       "<div>\n",
       "<style scoped>\n",
       "    .dataframe tbody tr th:only-of-type {\n",
       "        vertical-align: middle;\n",
       "    }\n",
       "\n",
       "    .dataframe tbody tr th {\n",
       "        vertical-align: top;\n",
       "    }\n",
       "\n",
       "    .dataframe thead th {\n",
       "        text-align: right;\n",
       "    }\n",
       "</style>\n",
       "<table border=\"1\" class=\"dataframe\">\n",
       "  <thead>\n",
       "    <tr style=\"text-align: right;\">\n",
       "      <th></th>\n",
       "      <th>Mileage</th>\n",
       "      <th>Engine_Size</th>\n",
       "      <th>log_price</th>\n",
       "      <th>Car_age</th>\n",
       "      <th>Mileage_per_engine_size</th>\n",
       "      <th>Brand_Bentley</th>\n",
       "      <th>Brand_Bmw</th>\n",
       "      <th>Brand_Chevrolet</th>\n",
       "      <th>Brand_Ford</th>\n",
       "      <th>Brand_Honda</th>\n",
       "      <th>...</th>\n",
       "      <th>Car_Model_ContinentalGt</th>\n",
       "      <th>Car_Model_Corolla</th>\n",
       "      <th>Car_Model_EType</th>\n",
       "      <th>Car_Model_Ls</th>\n",
       "      <th>Car_Model_Model3</th>\n",
       "      <th>Car_Model_ModelT</th>\n",
       "      <th>Car_Model_Mustang</th>\n",
       "      <th>Car_Model_Panamera</th>\n",
       "      <th>Car_Model_SClass</th>\n",
       "      <th>Car_Model_SilverCloud</th>\n",
       "    </tr>\n",
       "  </thead>\n",
       "  <tbody>\n",
       "    <tr>\n",
       "      <th>1</th>\n",
       "      <td>33.68</td>\n",
       "      <td>5.5</td>\n",
       "      <td>12.198318</td>\n",
       "      <td>46</td>\n",
       "      <td>6.123636</td>\n",
       "      <td>False</td>\n",
       "      <td>False</td>\n",
       "      <td>False</td>\n",
       "      <td>False</td>\n",
       "      <td>False</td>\n",
       "      <td>...</td>\n",
       "      <td>False</td>\n",
       "      <td>False</td>\n",
       "      <td>True</td>\n",
       "      <td>False</td>\n",
       "      <td>False</td>\n",
       "      <td>False</td>\n",
       "      <td>False</td>\n",
       "      <td>False</td>\n",
       "      <td>False</td>\n",
       "      <td>False</td>\n",
       "    </tr>\n",
       "    <tr>\n",
       "      <th>2</th>\n",
       "      <td>41.53</td>\n",
       "      <td>4.8</td>\n",
       "      <td>12.583533</td>\n",
       "      <td>15</td>\n",
       "      <td>8.652083</td>\n",
       "      <td>False</td>\n",
       "      <td>False</td>\n",
       "      <td>False</td>\n",
       "      <td>False</td>\n",
       "      <td>False</td>\n",
       "      <td>...</td>\n",
       "      <td>False</td>\n",
       "      <td>False</td>\n",
       "      <td>False</td>\n",
       "      <td>False</td>\n",
       "      <td>False</td>\n",
       "      <td>False</td>\n",
       "      <td>False</td>\n",
       "      <td>False</td>\n",
       "      <td>True</td>\n",
       "      <td>False</td>\n",
       "    </tr>\n",
       "    <tr>\n",
       "      <th>3</th>\n",
       "      <td>19.22</td>\n",
       "      <td>4.1</td>\n",
       "      <td>12.131403</td>\n",
       "      <td>56</td>\n",
       "      <td>4.687805</td>\n",
       "      <td>False</td>\n",
       "      <td>False</td>\n",
       "      <td>False</td>\n",
       "      <td>True</td>\n",
       "      <td>False</td>\n",
       "      <td>...</td>\n",
       "      <td>False</td>\n",
       "      <td>False</td>\n",
       "      <td>False</td>\n",
       "      <td>False</td>\n",
       "      <td>False</td>\n",
       "      <td>True</td>\n",
       "      <td>False</td>\n",
       "      <td>False</td>\n",
       "      <td>False</td>\n",
       "      <td>False</td>\n",
       "    </tr>\n",
       "    <tr>\n",
       "      <th>4</th>\n",
       "      <td>16.37</td>\n",
       "      <td>3.8</td>\n",
       "      <td>12.707608</td>\n",
       "      <td>12</td>\n",
       "      <td>4.307895</td>\n",
       "      <td>False</td>\n",
       "      <td>False</td>\n",
       "      <td>False</td>\n",
       "      <td>False</td>\n",
       "      <td>False</td>\n",
       "      <td>...</td>\n",
       "      <td>False</td>\n",
       "      <td>False</td>\n",
       "      <td>False</td>\n",
       "      <td>False</td>\n",
       "      <td>False</td>\n",
       "      <td>False</td>\n",
       "      <td>False</td>\n",
       "      <td>False</td>\n",
       "      <td>True</td>\n",
       "      <td>False</td>\n",
       "    </tr>\n",
       "    <tr>\n",
       "      <th>5</th>\n",
       "      <td>35.39</td>\n",
       "      <td>4.6</td>\n",
       "      <td>11.486099</td>\n",
       "      <td>32</td>\n",
       "      <td>7.693478</td>\n",
       "      <td>False</td>\n",
       "      <td>True</td>\n",
       "      <td>False</td>\n",
       "      <td>False</td>\n",
       "      <td>False</td>\n",
       "      <td>...</td>\n",
       "      <td>False</td>\n",
       "      <td>False</td>\n",
       "      <td>False</td>\n",
       "      <td>False</td>\n",
       "      <td>False</td>\n",
       "      <td>False</td>\n",
       "      <td>False</td>\n",
       "      <td>False</td>\n",
       "      <td>False</td>\n",
       "      <td>False</td>\n",
       "    </tr>\n",
       "  </tbody>\n",
       "</table>\n",
       "<p>5 rows × 40 columns</p>\n",
       "</div>"
      ],
      "text/plain": [
       "   Mileage  Engine_Size  log_price  Car_age  Mileage_per_engine_size  \\\n",
       "1    33.68          5.5  12.198318       46                 6.123636   \n",
       "2    41.53          4.8  12.583533       15                 8.652083   \n",
       "3    19.22          4.1  12.131403       56                 4.687805   \n",
       "4    16.37          3.8  12.707608       12                 4.307895   \n",
       "5    35.39          4.6  11.486099       32                 7.693478   \n",
       "\n",
       "   Brand_Bentley  Brand_Bmw  Brand_Chevrolet  Brand_Ford  Brand_Honda  ...  \\\n",
       "1          False      False            False       False        False  ...   \n",
       "2          False      False            False       False        False  ...   \n",
       "3          False      False            False        True        False  ...   \n",
       "4          False      False            False       False        False  ...   \n",
       "5          False       True            False       False        False  ...   \n",
       "\n",
       "   Car_Model_ContinentalGt  Car_Model_Corolla  Car_Model_EType  Car_Model_Ls  \\\n",
       "1                    False              False             True         False   \n",
       "2                    False              False            False         False   \n",
       "3                    False              False            False         False   \n",
       "4                    False              False            False         False   \n",
       "5                    False              False            False         False   \n",
       "\n",
       "   Car_Model_Model3  Car_Model_ModelT  Car_Model_Mustang  Car_Model_Panamera  \\\n",
       "1             False             False              False               False   \n",
       "2             False             False              False               False   \n",
       "3             False              True              False               False   \n",
       "4             False             False              False               False   \n",
       "5             False             False              False               False   \n",
       "\n",
       "   Car_Model_SClass  Car_Model_SilverCloud  \n",
       "1             False                  False  \n",
       "2              True                  False  \n",
       "3             False                  False  \n",
       "4              True                  False  \n",
       "5             False                  False  \n",
       "\n",
       "[5 rows x 40 columns]"
      ]
     },
     "execution_count": 61,
     "metadata": {},
     "output_type": "execute_result"
    }
   ],
   "source": [
    "df = pd.get_dummies(df,columns=['Brand','Category','Fuel_Type','Transmission','Car_Model'],drop_first=True)\n",
    "df.head()"
   ]
  },
  {
   "cell_type": "code",
   "execution_count": 62,
   "id": "8efda4ac-ad11-4d72-bf14-4c44deebf2f5",
   "metadata": {},
   "outputs": [],
   "source": [
    "from sklearn.preprocessing import StandardScaler\n",
    "\n",
    "scaler = StandardScaler()\n",
    "df[numerical_features] = scaler.fit_transform(df[numerical_features])"
   ]
  },
  {
   "cell_type": "code",
   "execution_count": 63,
   "id": "0b56110a-2da7-461c-94d7-7358c6384757",
   "metadata": {},
   "outputs": [
    {
     "data": {
      "text/html": [
       "<div>\n",
       "<style scoped>\n",
       "    .dataframe tbody tr th:only-of-type {\n",
       "        vertical-align: middle;\n",
       "    }\n",
       "\n",
       "    .dataframe tbody tr th {\n",
       "        vertical-align: top;\n",
       "    }\n",
       "\n",
       "    .dataframe thead th {\n",
       "        text-align: right;\n",
       "    }\n",
       "</style>\n",
       "<table border=\"1\" class=\"dataframe\">\n",
       "  <thead>\n",
       "    <tr style=\"text-align: right;\">\n",
       "      <th></th>\n",
       "      <th>Mileage</th>\n",
       "      <th>Engine_Size</th>\n",
       "      <th>log_price</th>\n",
       "      <th>Car_age</th>\n",
       "      <th>Mileage_per_engine_size</th>\n",
       "      <th>Brand_Bentley</th>\n",
       "      <th>Brand_Bmw</th>\n",
       "      <th>Brand_Chevrolet</th>\n",
       "      <th>Brand_Ford</th>\n",
       "      <th>Brand_Honda</th>\n",
       "      <th>...</th>\n",
       "      <th>Car_Model_ContinentalGt</th>\n",
       "      <th>Car_Model_Corolla</th>\n",
       "      <th>Car_Model_EType</th>\n",
       "      <th>Car_Model_Ls</th>\n",
       "      <th>Car_Model_Model3</th>\n",
       "      <th>Car_Model_ModelT</th>\n",
       "      <th>Car_Model_Mustang</th>\n",
       "      <th>Car_Model_Panamera</th>\n",
       "      <th>Car_Model_SClass</th>\n",
       "      <th>Car_Model_SilverCloud</th>\n",
       "    </tr>\n",
       "  </thead>\n",
       "  <tbody>\n",
       "    <tr>\n",
       "      <th>1</th>\n",
       "      <td>0.473166</td>\n",
       "      <td>1.112773</td>\n",
       "      <td>12.198318</td>\n",
       "      <td>0.109286</td>\n",
       "      <td>-0.447869</td>\n",
       "      <td>False</td>\n",
       "      <td>False</td>\n",
       "      <td>False</td>\n",
       "      <td>False</td>\n",
       "      <td>False</td>\n",
       "      <td>...</td>\n",
       "      <td>False</td>\n",
       "      <td>False</td>\n",
       "      <td>True</td>\n",
       "      <td>False</td>\n",
       "      <td>False</td>\n",
       "      <td>False</td>\n",
       "      <td>False</td>\n",
       "      <td>False</td>\n",
       "      <td>False</td>\n",
       "      <td>False</td>\n",
       "    </tr>\n",
       "    <tr>\n",
       "      <th>2</th>\n",
       "      <td>1.072726</td>\n",
       "      <td>0.686974</td>\n",
       "      <td>12.583533</td>\n",
       "      <td>-0.785276</td>\n",
       "      <td>-0.155574</td>\n",
       "      <td>False</td>\n",
       "      <td>False</td>\n",
       "      <td>False</td>\n",
       "      <td>False</td>\n",
       "      <td>False</td>\n",
       "      <td>...</td>\n",
       "      <td>False</td>\n",
       "      <td>False</td>\n",
       "      <td>False</td>\n",
       "      <td>False</td>\n",
       "      <td>False</td>\n",
       "      <td>False</td>\n",
       "      <td>False</td>\n",
       "      <td>False</td>\n",
       "      <td>True</td>\n",
       "      <td>False</td>\n",
       "    </tr>\n",
       "  </tbody>\n",
       "</table>\n",
       "<p>2 rows × 40 columns</p>\n",
       "</div>"
      ],
      "text/plain": [
       "    Mileage  Engine_Size  log_price   Car_age  Mileage_per_engine_size  \\\n",
       "1  0.473166     1.112773  12.198318  0.109286                -0.447869   \n",
       "2  1.072726     0.686974  12.583533 -0.785276                -0.155574   \n",
       "\n",
       "   Brand_Bentley  Brand_Bmw  Brand_Chevrolet  Brand_Ford  Brand_Honda  ...  \\\n",
       "1          False      False            False       False        False  ...   \n",
       "2          False      False            False       False        False  ...   \n",
       "\n",
       "   Car_Model_ContinentalGt  Car_Model_Corolla  Car_Model_EType  Car_Model_Ls  \\\n",
       "1                    False              False             True         False   \n",
       "2                    False              False            False         False   \n",
       "\n",
       "   Car_Model_Model3  Car_Model_ModelT  Car_Model_Mustang  Car_Model_Panamera  \\\n",
       "1             False             False              False               False   \n",
       "2             False             False              False               False   \n",
       "\n",
       "   Car_Model_SClass  Car_Model_SilverCloud  \n",
       "1             False                  False  \n",
       "2              True                  False  \n",
       "\n",
       "[2 rows x 40 columns]"
      ]
     },
     "execution_count": 63,
     "metadata": {},
     "output_type": "execute_result"
    }
   ],
   "source": [
    "df.head(2)"
   ]
  },
  {
   "cell_type": "markdown",
   "id": "5819ca4b-f281-4b31-bc4a-bc27b77fff73",
   "metadata": {},
   "source": [
    "## Model Building "
   ]
  },
  {
   "cell_type": "markdown",
   "id": "63ad2580-e895-40cf-a869-c0135858787c",
   "metadata": {},
   "source": [
    "### Train test split"
   ]
  },
  {
   "cell_type": "code",
   "execution_count": 64,
   "id": "9641ad6a-d587-497c-9ad2-cb4e5a820c25",
   "metadata": {},
   "outputs": [],
   "source": [
    "from sklearn.model_selection import train_test_split\n",
    "\n",
    "X = df.drop(columns=['log_price'])\n",
    "y = df['log_price']\n",
    "\n",
    "X_train,X_test,y_train,y_test = train_test_split(X,y,test_size=0.2,random_state=42)"
   ]
  },
  {
   "cell_type": "code",
   "execution_count": 65,
   "id": "7b428935-af8f-4a82-97d1-81a1492bd849",
   "metadata": {},
   "outputs": [
    {
     "name": "stdout",
     "output_type": "stream",
     "text": [
      "shape of X_train (19072, 39)\n",
      "shape of X_test (4769, 39)\n",
      "shape of y_train (19072,)\n",
      "shape of y_test (4769,)\n"
     ]
    }
   ],
   "source": [
    "print('shape of X_train',X_train.shape)\n",
    "print('shape of X_test',X_test.shape)\n",
    "print('shape of y_train',y_train.shape)\n",
    "print('shape of y_test',y_test.shape)"
   ]
  },
  {
   "cell_type": "markdown",
   "id": "342eced1-0966-45b1-ba08-7fcdfab19b1f",
   "metadata": {},
   "source": [
    "### Linear Regression"
   ]
  },
  {
   "cell_type": "code",
   "execution_count": 66,
   "id": "8ef0907c-da77-4708-990e-6e6c8a906150",
   "metadata": {},
   "outputs": [],
   "source": [
    "from sklearn.linear_model import LinearRegression\n",
    "\n",
    "model = LinearRegression()\n",
    "model.fit(X_train,y_train)\n",
    "\n",
    "y_pred = model.predict(X_test)"
   ]
  },
  {
   "cell_type": "code",
   "execution_count": 67,
   "id": "62301a75-8c3a-4041-a23d-6da3305a3daf",
   "metadata": {},
   "outputs": [
    {
     "name": "stdout",
     "output_type": "stream",
     "text": [
      "mean squared error: 0.5438163137984633\n",
      "r2 score: 0.33463914827113495\n"
     ]
    }
   ],
   "source": [
    "from sklearn.metrics import mean_squared_error,r2_score\n",
    "\n",
    "print('mean squared error:', mean_squared_error(y_test,y_pred))\n",
    "print('r2 score:', r2_score(y_test,y_pred))"
   ]
  },
  {
   "cell_type": "markdown",
   "id": "7b75dc99-227c-434f-9f1e-167b3c04043d",
   "metadata": {},
   "source": [
    "### Random forest regressor"
   ]
  },
  {
   "cell_type": "code",
   "execution_count": 68,
   "id": "900a70de-c176-42d9-84f3-d93d2fefebf7",
   "metadata": {},
   "outputs": [],
   "source": [
    "from sklearn.ensemble import RandomForestRegressor\n",
    "from xgboost import XGBRegressor\n",
    "from sklearn.metrics import mean_squared_error, r2_score"
   ]
  },
  {
   "cell_type": "code",
   "execution_count": 69,
   "id": "467e9aed-3c49-46ea-93b4-6159891387de",
   "metadata": {},
   "outputs": [
    {
     "name": "stdout",
     "output_type": "stream",
     "text": [
      "Random forest r2_score: 0.2971956888837285\n",
      "Random forest mean squared error: 0.5744198036296017\n"
     ]
    }
   ],
   "source": [
    "rf_model = RandomForestRegressor(n_estimators=500,random_state=42)\n",
    "\n",
    "rf_model.fit(X_train,y_train)\n",
    "\n",
    "y_pred_rf = rf_model.predict(X_test)\n",
    "\n",
    "r2_rf = r2_score(y_test,y_pred_rf)\n",
    "mse_rf = mean_squared_error(y_test,y_pred_rf)\n",
    "\n",
    "print('Random forest r2_score:',r2_rf)\n",
    "print('Random forest mean squared error:',mse_rf)"
   ]
  },
  {
   "cell_type": "markdown",
   "id": "7aec5458-e4c7-4efd-a456-5eb3a041e3fc",
   "metadata": {},
   "source": [
    "### XGBoost"
   ]
  },
  {
   "cell_type": "code",
   "execution_count": 70,
   "id": "e3d1b521-a99d-4be3-a7b1-18728ba76686",
   "metadata": {},
   "outputs": [
    {
     "name": "stdout",
     "output_type": "stream",
     "text": [
      "XGBoost r2_score: 0.3185748498587163\n",
      "XGBoost mean squared error: 0.5569460726709615\n"
     ]
    }
   ],
   "source": [
    "xg_model = XGBRegressor(n_estimators=100,learning_rate=0.1,random_state=42)\n",
    "\n",
    "xg_model.fit(X_train,y_train)\n",
    "\n",
    "y_pred_xg = xg_model.predict(X_test)\n",
    "\n",
    "r2_xg = r2_score(y_test,y_pred_xg)\n",
    "mse_xg = mean_squared_error(y_test,y_pred_xg)\n",
    "\n",
    "print('XGBoost r2_score:',r2_xg)\n",
    "print('XGBoost mean squared error:',mse_xg)"
   ]
  },
  {
   "cell_type": "markdown",
   "id": "662ee3d7-7a1e-4ef9-812f-d340794229dc",
   "metadata": {},
   "source": [
    "## Hyperparameter tuning"
   ]
  },
  {
   "cell_type": "markdown",
   "id": "8329d95d-f2ea-4c22-b381-98a427009a83",
   "metadata": {},
   "source": [
    "#### To improve our Random Forest and XGBoost models. "
   ]
  },
  {
   "cell_type": "markdown",
   "id": "c4524567-e5a2-480a-ac34-b8dae9f5f575",
   "metadata": {},
   "source": [
    "### Grid search Cv"
   ]
  },
  {
   "cell_type": "code",
   "execution_count": 76,
   "id": "9a4591da-9559-46d5-ac07-a21973b1b8f2",
   "metadata": {},
   "outputs": [],
   "source": [
    "from sklearn.model_selection import GridSearchCV"
   ]
  },
  {
   "cell_type": "markdown",
   "id": "eeb1ebe4-54ca-4110-910a-40406af35880",
   "metadata": {},
   "source": [
    "#### Random Forest"
   ]
  },
  {
   "cell_type": "markdown",
   "id": "521d64e0-f728-4a42-8ec7-a5cf786d5d6a",
   "metadata": {},
   "source": [
    "#### This one takes lots of time so alternatively we can use randomizedsearchcv"
   ]
  },
  {
   "cell_type": "code",
   "execution_count": 72,
   "id": "8e6f3baf-b76b-4b6e-bdc4-b39943e5d91a",
   "metadata": {},
   "outputs": [],
   "source": [
    "# # Define the parameter grid\n",
    "# rf_param_grid = {\n",
    "#     'n_estimators': [100, 200, 300],\n",
    "#     'max_depth': [None, 10, 20],\n",
    "#     'min_samples_split': [2, 5, 10],\n",
    "#     'min_samples_leaf': [1, 2, 4]\n",
    "# }\n",
    "\n",
    "\n",
    "# rf = RandomForestRegressor(random_state=42)\n",
    "\n",
    "# # Perform Grid Search\n",
    "# rf_grid_search = GridSearchCV(rf, rf_param_grid, cv=5, scoring='r2', n_jobs=-1, verbose=2)\n",
    "# rf_grid_search.fit(X_train, y_train)\n",
    "\n",
    "\n",
    "# print(\"Best Random Forest Parameters:\", rf_grid_search.best_params_)\n",
    "\n",
    "\n",
    "# best_rf = rf_grid_search.best_estimator_\n",
    "\n",
    "\n",
    "# y_pred_rf = best_rf.predict(X_test)\n",
    "# print(\"Random Forest R2 Score:\", r2_score(y_test, y_pred_rf))\n",
    "# print(\"Random Forest RMSE:\", mean_squared_error(y_test, y_pred_rf))"
   ]
  },
  {
   "cell_type": "markdown",
   "id": "b7e6a361-9569-4489-8499-de27f3e7956d",
   "metadata": {},
   "source": [
    "#### RandomizedsearchCV for Random forest regressor and XGBoost regressor"
   ]
  },
  {
   "cell_type": "code",
   "execution_count": 77,
   "id": "bfa1ee0c-ce78-408c-8201-9645598001dc",
   "metadata": {},
   "outputs": [],
   "source": [
    "# for faster performance\n",
    "\n",
    "from sklearn.model_selection import RandomizedSearchCV"
   ]
  },
  {
   "cell_type": "code",
   "execution_count": 78,
   "id": "48252a97-47ae-46e0-b318-54f4620b8771",
   "metadata": {},
   "outputs": [
    {
     "name": "stdout",
     "output_type": "stream",
     "text": [
      "Fitting 3 folds for each of 5 candidates, totalling 15 fits\n",
      "Best Random Forest Parameters: {'n_estimators': 100, 'min_samples_split': 2, 'min_samples_leaf': 1, 'max_depth': 10}\n",
      "Random Forest R2 Score: 0.33357636732216966\n",
      "Random Forest RMSE: 0.5446849516459408\n"
     ]
    }
   ],
   "source": [
    "# Define the parameter grid (smaller range)\n",
    "rf_param_grid = {\n",
    "    'n_estimators': [50, 100],  # Reduced number of trees\n",
    "    'max_depth': [10, 15],  # Limited depth choices\n",
    "    'min_samples_split': [2, 5],  \n",
    "    'min_samples_leaf': [1, 2]  \n",
    "}\n",
    "\n",
    "\n",
    "rf = RandomForestRegressor(random_state=42)\n",
    "\n",
    "# Use RandomizedSearchCV instead of GridSearchCV\n",
    "rf_search = RandomizedSearchCV(\n",
    "    rf, rf_param_grid, n_iter=5, cv=3, scoring='r2', \n",
    "    n_jobs=-1, verbose=2, random_state=42\n",
    ")\n",
    "\n",
    "\n",
    "rf_search.fit(X_train, y_train)\n",
    "\n",
    "\n",
    "print(\"Best Random Forest Parameters:\", rf_search.best_params_)\n",
    "\n",
    "# Train best model\n",
    "best_rf = rf_search.best_estimator_\n",
    "\n",
    "# Predict & Evaluate\n",
    "y_pred_rf = best_rf.predict(X_test)\n",
    "print(\"Random Forest R2 Score:\", r2_score(y_test, y_pred_rf))\n",
    "print(\"Random Forest RMSE:\", mean_squared_error(y_test, y_pred_rf))"
   ]
  },
  {
   "cell_type": "code",
   "execution_count": null,
   "id": "0794477d-ea33-4a17-a8ad-5aa4ed1fcafd",
   "metadata": {},
   "outputs": [],
   "source": []
  },
  {
   "cell_type": "markdown",
   "id": "a334a33a-cc07-46e7-8284-8aa876056037",
   "metadata": {},
   "source": [
    "### XGBoost"
   ]
  },
  {
   "cell_type": "code",
   "execution_count": 74,
   "id": "0f123583-d5f0-47c8-9181-d3d88099ba73",
   "metadata": {},
   "outputs": [
    {
     "name": "stdout",
     "output_type": "stream",
     "text": [
      "Fitting 3 folds for each of 5 candidates, totalling 15 fits\n",
      "Best XGBoost Parameters: {'subsample': 0.9, 'n_estimators': 100, 'max_depth': 3, 'learning_rate': 0.1, 'colsample_bytree': 0.9}\n",
      "XGBoost R2 Score: 0.3306048284713864\n",
      "XGBoost RMSE: 0.5471136657789454\n"
     ]
    }
   ],
   "source": [
    "# Define parameter grid (smaller range for faster search)\n",
    "xgb_param_grid = {\n",
    "    'n_estimators': [50, 100],  \n",
    "    'learning_rate': [0.01, 0.1, 0.2],  # Common values\n",
    "    'max_depth': [3, 5, 7],  # Avoid very deep trees\n",
    "    'subsample': [0.7, 0.8, 0.9],  # Sample fraction of data\n",
    "    'colsample_bytree': [0.7, 0.8, 0.9]  # Feature selection\n",
    "}\n",
    "\n",
    "# Initialize XGBRegressor\n",
    "xgb = XGBRegressor(objective='reg:squarederror', random_state=42)\n",
    "\n",
    "# Use RandomizedSearchCV for faster tuning\n",
    "xgb_search = RandomizedSearchCV(\n",
    "    xgb, xgb_param_grid, n_iter=5, cv=3, scoring='r2',\n",
    "    n_jobs=-1, verbose=2, random_state=42\n",
    ")\n",
    "\n",
    "\n",
    "xgb_search.fit(X_train, y_train)\n",
    "\n",
    "\n",
    "print(\"Best XGBoost Parameters:\", xgb_search.best_params_)\n",
    "\n",
    "\n",
    "best_xgb = xgb_search.best_estimator_\n",
    "\n",
    "# Predict & Evaluate\n",
    "y_pred_xgb = best_xgb.predict(X_test)\n",
    "print(\"XGBoost R2 Score:\", r2_score(y_test, y_pred_xgb))\n",
    "print(\"XGBoost RMSE:\", mean_squared_error(y_test, y_pred_xgb))"
   ]
  },
  {
   "cell_type": "markdown",
   "id": "9cc1f237-4da5-4863-950c-05b4d2e25eda",
   "metadata": {},
   "source": [
    "## Save the Random Forest Model"
   ]
  },
  {
   "cell_type": "code",
   "execution_count": 80,
   "id": "aca1da4c-ed3c-42f7-bf40-cbab0e873dca",
   "metadata": {},
   "outputs": [
    {
     "name": "stdout",
     "output_type": "stream",
     "text": [
      "Random Forest model saved successfully!\n"
     ]
    }
   ],
   "source": [
    "import pickle\n",
    "\n",
    "# Save the trained Random Forest model\n",
    "with open('random_forest_model.pkl', 'wb') as file:\n",
    "    pickle.dump(rf_model, file)  \n",
    "\n",
    "print(\"Random Forest model saved successfully!\")"
   ]
  },
  {
   "cell_type": "markdown",
   "id": "0a635a3f-dfa8-4517-bfa1-5602d99bd54b",
   "metadata": {},
   "source": [
    "## Load the Saved Model in Jupyter Notebook"
   ]
  },
  {
   "cell_type": "code",
   "execution_count": 81,
   "id": "30bda400-2bf1-4014-87c4-6b90229e715f",
   "metadata": {},
   "outputs": [
    {
     "name": "stdout",
     "output_type": "stream",
     "text": [
      "Random Forest model loaded successfully!\n"
     ]
    }
   ],
   "source": [
    "# Load the saved model\n",
    "with open('random_forest_model.pkl', 'rb') as file:\n",
    "    loaded_rf = pickle.load(file)\n",
    "\n",
    "print(\"Random Forest model loaded successfully!\")"
   ]
  },
  {
   "cell_type": "markdown",
   "id": "a07dd90e-2a52-4e8c-a16a-d02da2c2c32f",
   "metadata": {},
   "source": [
    "## Make Predictions with New Inputs"
   ]
  },
  {
   "cell_type": "code",
   "execution_count": 86,
   "id": "5ff6e3b1-5c7a-4f37-bad4-e29143d905a1",
   "metadata": {},
   "outputs": [
    {
     "name": "stdout",
     "output_type": "stream",
     "text": [
      "Predicted Car Price in dollars: 311639.62400914525\n"
     ]
    }
   ],
   "source": [
    "new_data_dict = {\n",
    "    'Brand': ['Ford'], \n",
    "    'Category': ['Sports'], \n",
    "    'Mileage': [20000], \n",
    "    'Engine_Size': [5.0], \n",
    "    'Fuel_Type': ['Petrol'], \n",
    "    'Transmission': ['Manual'], \n",
    "    'Car_Model': ['Mustang'],\n",
    "    'Car_age': [2],\n",
    "    'Mileage_per_engine_size': [4000]\n",
    "}\n",
    "\n",
    "# Convert to DataFrame\n",
    "new_data_df = pd.DataFrame(new_data_dict)\n",
    "\n",
    "# Apply the same encoding as training data\n",
    "new_data_encoded = pd.get_dummies(new_data_df)\n",
    "\n",
    "# Align columns with training data (to ensure same feature count)\n",
    "new_data_encoded = new_data_encoded.reindex(columns=X_train.columns, fill_value=0)\n",
    "\n",
    "# Make prediction\n",
    "predicted_log_price = loaded_rf.predict(new_data_encoded)\n",
    "\n",
    "# Convert log price back to normal\n",
    "predicted_price = np.exp(predicted_log_price)\n",
    "\n",
    "print(\"Predicted Car Price in dollars:\", predicted_price[0])"
   ]
  },
  {
   "cell_type": "code",
   "execution_count": null,
   "id": "0a9ae75e-00e9-49d7-a376-ae8d05e8a9f7",
   "metadata": {},
   "outputs": [],
   "source": []
  }
 ],
 "metadata": {
  "kernelspec": {
   "display_name": "Python 3 (ipykernel)",
   "language": "python",
   "name": "python3"
  },
  "language_info": {
   "codemirror_mode": {
    "name": "ipython",
    "version": 3
   },
   "file_extension": ".py",
   "mimetype": "text/x-python",
   "name": "python",
   "nbconvert_exporter": "python",
   "pygments_lexer": "ipython3",
   "version": "3.11.7"
  }
 },
 "nbformat": 4,
 "nbformat_minor": 5
}
